{
 "cells": [
  {
   "cell_type": "markdown",
   "id": "bfc3c134-43d0-489d-8aed-0552bda5caa0",
   "metadata": {
    "tags": []
   },
   "source": [
    "# Setup"
   ]
  },
  {
   "cell_type": "code",
   "execution_count": 5,
   "id": "03e723f8",
   "metadata": {},
   "outputs": [],
   "source": [
    "import pandas as pd\n",
    "import numpy as np\n",
    "import datetime"
   ]
  },
  {
   "cell_type": "code",
   "execution_count": 6,
   "id": "46648b13-225b-4d0e-b8f5-0a955955ff2b",
   "metadata": {
    "tags": []
   },
   "outputs": [],
   "source": [
    "#headers = ['Date', 'Time', 'Global_active_power', 'Global_reactive_power', 'Voltage', 'Global_intensity', 'Sub_metering_1', 'Sub_metering_2', 'Sub_metering_3']\n",
    "dictionary_for_needed_type = {\n",
    "    'Global_active_power': 'float64',\n",
    "    'Global_reactive_power': 'float64',\n",
    "    'Voltage': 'float64',\n",
    "    'Global_intensity': 'float64',\n",
    "    'Sub_metering_1': 'float64',\n",
    "    'Sub_metering_2': 'float64',\n",
    "    'Sub_metering_3': 'float64',\n",
    "                             }"
   ]
  },
  {
   "cell_type": "code",
   "execution_count": 7,
   "id": "83c34d4b",
   "metadata": {},
   "outputs": [
    {
     "name": "stdout",
     "output_type": "stream",
     "text": [
      "1829.8909999999998 miliseconds or 1.829891 seconds\n"
     ]
    }
   ],
   "source": [
    "start_time = datetime.datetime.now()\n",
    "\n",
    "df = pd.read_csv(\"household_power_consumption.txt\", sep=\";\", low_memory=False)\n",
    "#, index_col=[\"Date\", \"Time\"]\n",
    "\n",
    "end_time = datetime.datetime.now()\n",
    "execution_time = end_time - start_time\n",
    "print(f\"{execution_time.total_seconds() * 1000} miliseconds or {execution_time.total_seconds()} seconds\")"
   ]
  },
  {
   "cell_type": "code",
   "execution_count": 8,
   "id": "52f4259e-f1b4-4aab-88fa-e326209acbb0",
   "metadata": {},
   "outputs": [
    {
     "name": "stdout",
     "output_type": "stream",
     "text": [
      "3280.694 miliseconds or 3.280694 seconds\n"
     ]
    }
   ],
   "source": [
    "start_time = datetime.datetime.now()\n",
    "\n",
    "df = df.drop(df.loc[df[\"Date\"]=='?'].index)\n",
    "df = df.drop(df.loc[df[\"Time\"]=='?'].index)\n",
    "df = df.drop(df.loc[df[\"Global_active_power\"]=='?'].index)\n",
    "df = df.drop(df.loc[df[\"Global_reactive_power\"]=='?'].index)\n",
    "df = df.drop(df.loc[df[\"Voltage\"]=='?'].index)\n",
    "df = df.drop(df.loc[df[\"Global_intensity\"]=='?'].index)\n",
    "df = df.drop(df.loc[df[\"Sub_metering_1\"]=='?'].index)\n",
    "df = df.drop(df.loc[df[\"Sub_metering_2\"]=='?'].index)\n",
    "df = df.drop(df.loc[df[\"Sub_metering_3\"]=='?'].index)\n",
    "\n",
    "end_time = datetime.datetime.now()\n",
    "execution_time = end_time - start_time\n",
    "print(f\"{execution_time.total_seconds() * 1000} miliseconds or {execution_time.total_seconds()} seconds\")"
   ]
  },
  {
   "cell_type": "code",
   "execution_count": 9,
   "id": "a32b0580-3004-4cc5-964b-554c99b51430",
   "metadata": {},
   "outputs": [
    {
     "name": "stdout",
     "output_type": "stream",
     "text": [
      "1956.5539999999999 miliseconds or 1.956554 seconds\n"
     ]
    }
   ],
   "source": [
    "start_time = datetime.datetime.now()\n",
    "\n",
    "df = df.astype(dictionary_for_needed_type)\n",
    "\n",
    "end_time = datetime.datetime.now()\n",
    "execution_time = end_time - start_time\n",
    "print(f\"{execution_time.total_seconds() * 1000} miliseconds or {execution_time.total_seconds()} seconds\")"
   ]
  },
  {
   "cell_type": "markdown",
   "id": "d7b86a4a-10e0-4363-895f-9d323ef8f8e7",
   "metadata": {
    "tags": []
   },
   "source": [
    "# Завдання першого рівня\n",
    "Виконати всі завдання, використовуючи як numpy array, так і dataframe, проаналізувати часові витрати на виконання процедур (профілювання часу виконання), зробити висновки щодо ситуацій, в яких має сенс віддати перевагу тій чи іншій структурі даних. Висновки оформити звітом із зазначеним часом виконання та оцінкою по 5-бальній шкалі зручності виконання операцій відбору)."
   ]
  },
  {
   "cell_type": "markdown",
   "id": "1b30d7c9-6ac9-40a8-8ec4-8c82cedbbb5e",
   "metadata": {
    "tags": []
   },
   "source": [
    "## 1. Обрати всі домогосподарства, у яких загальна активна споживана потужність перевищує 5 кВт."
   ]
  },
  {
   "cell_type": "code",
   "execution_count": 10,
   "id": "e0006b64-f1a2-494c-b8c4-d9692674166b",
   "metadata": {},
   "outputs": [
    {
     "name": "stdout",
     "output_type": "stream",
     "text": [
      "               Date      Time  Global_active_power  Sub_metering_1  \\\n",
      "1        16/12/2006  17:25:00                5.360             0.0   \n",
      "2        16/12/2006  17:26:00                5.374             0.0   \n",
      "3        16/12/2006  17:27:00                5.388             0.0   \n",
      "11       16/12/2006  17:35:00                5.412             0.0   \n",
      "12       16/12/2006  17:36:00                5.224             0.0   \n",
      "...             ...       ...                  ...             ...   \n",
      "2069356  22/11/2010  18:40:00                5.408            48.0   \n",
      "2069357  22/11/2010  18:41:00                5.528            53.0   \n",
      "2071586  24/11/2010  07:50:00                5.172             0.0   \n",
      "2071587  24/11/2010  07:51:00                5.750             0.0   \n",
      "2072997  25/11/2010  07:21:00                5.074             1.0   \n",
      "\n",
      "         Sub_metering_2  Sub_metering_3  \n",
      "1                   1.0            16.0  \n",
      "2                   2.0            17.0  \n",
      "3                   1.0            17.0  \n",
      "11                  1.0            17.0  \n",
      "12                  1.0            16.0  \n",
      "...                 ...             ...  \n",
      "2069356             0.0             0.0  \n",
      "2069357             0.0             0.0  \n",
      "2071586            38.0            17.0  \n",
      "2071587            39.0            17.0  \n",
      "2072997             2.0            18.0  \n",
      "\n",
      "[17547 rows x 6 columns]\n",
      "16.999 miliseconds or 0.016999 seconds\n"
     ]
    }
   ],
   "source": [
    "start_time = datetime.datetime.now()\n",
    "\n",
    "print(df[df[\"Global_active_power\"]>5][[\"Date\", \"Time\", 'Global_active_power', 'Sub_metering_1', 'Sub_metering_2', 'Sub_metering_3']])\n",
    "\n",
    "end_time = datetime.datetime.now()\n",
    "execution_time = end_time - start_time\n",
    "print(f\"{execution_time.total_seconds() * 1000} miliseconds or {execution_time.total_seconds()} seconds\")"
   ]
  },
  {
   "cell_type": "markdown",
   "id": "8eab838a-4fd5-48d8-943c-9c1ade2433b2",
   "metadata": {
    "tags": []
   },
   "source": [
    "## 2. Обрати всі домогосподарства, у яких вольтаж перевищую 235 В."
   ]
  },
  {
   "cell_type": "code",
   "execution_count": 11,
   "id": "5c756c10-424b-4a43-adf1-987fc02399eb",
   "metadata": {
    "tags": []
   },
   "outputs": [
    {
     "name": "stdout",
     "output_type": "stream",
     "text": [
      "               Date      Time  Voltage  Sub_metering_1  Sub_metering_2  \\\n",
      "4        16/12/2006  17:28:00   235.68             0.0             1.0   \n",
      "5        16/12/2006  17:29:00   235.02             0.0             2.0   \n",
      "6        16/12/2006  17:30:00   235.09             0.0             1.0   \n",
      "7        16/12/2006  17:31:00   235.22             0.0             1.0   \n",
      "14       16/12/2006  17:38:00   235.24             0.0             1.0   \n",
      "...             ...       ...      ...             ...             ...   \n",
      "2075254  26/11/2010  20:58:00   240.43             0.0             0.0   \n",
      "2075255  26/11/2010  20:59:00   240.00             0.0             0.0   \n",
      "2075256  26/11/2010  21:00:00   239.82             0.0             0.0   \n",
      "2075257  26/11/2010  21:01:00   239.70             0.0             0.0   \n",
      "2075258  26/11/2010  21:02:00   239.55             0.0             0.0   \n",
      "\n",
      "         Sub_metering_3  \n",
      "4                  17.0  \n",
      "5                  17.0  \n",
      "6                  17.0  \n",
      "7                  17.0  \n",
      "14                 17.0  \n",
      "...                 ...  \n",
      "2075254             0.0  \n",
      "2075255             0.0  \n",
      "2075256             0.0  \n",
      "2075257             0.0  \n",
      "2075258             0.0  \n",
      "\n",
      "[1952491 rows x 6 columns]\n",
      "196.00799999999998 miliseconds or 0.196008 seconds\n"
     ]
    }
   ],
   "source": [
    "start_time = datetime.datetime.now()\n",
    "\n",
    "print(df[df[\"Voltage\"]>235][[\"Date\", \"Time\", 'Voltage', 'Sub_metering_1', 'Sub_metering_2', 'Sub_metering_3']])\n",
    "\n",
    "end_time = datetime.datetime.now()\n",
    "execution_time = end_time - start_time\n",
    "print(f\"{execution_time.total_seconds() * 1000} miliseconds or {execution_time.total_seconds()} seconds\")"
   ]
  },
  {
   "cell_type": "markdown",
   "id": "4edc23af-41cf-4b9c-a4b4-d8fb9e4a544c",
   "metadata": {
    "tags": []
   },
   "source": [
    "## 3. Обрати всі домогосподарства, у яких сила струму лежить в межах 19-20 А, для них виявити ті, у яких пральна машина та холодильних споживають більше, ніж бойлер та кондиціонер."
   ]
  },
  {
   "cell_type": "code",
   "execution_count": 12,
   "id": "e7cf4c78-ac2f-4f65-b9c5-64458b2583e9",
   "metadata": {
    "tags": []
   },
   "outputs": [
    {
     "name": "stdout",
     "output_type": "stream",
     "text": [
      "               Date      Time  Global_intensity  Sub_metering_1  \\\n",
      "45       16/12/2006  18:09:00              19.0             0.0   \n",
      "460      17/12/2006  01:04:00              19.6             0.0   \n",
      "464      17/12/2006  01:08:00              19.6             0.0   \n",
      "475      17/12/2006  01:19:00              19.4             0.0   \n",
      "476      17/12/2006  01:20:00              19.4             0.0   \n",
      "...             ...       ...               ...             ...   \n",
      "2071589  24/11/2010  07:53:00              19.8             0.0   \n",
      "2071590  24/11/2010  07:54:00              19.8             0.0   \n",
      "2071591  24/11/2010  07:55:00              19.4             0.0   \n",
      "2071592  24/11/2010  07:56:00              19.0             0.0   \n",
      "2071593  24/11/2010  07:57:00              19.4             0.0   \n",
      "\n",
      "         Sub_metering_2  Sub_metering_3  \n",
      "45                 37.0            16.0  \n",
      "460                13.0             0.0  \n",
      "464                27.0             0.0  \n",
      "475                36.0             0.0  \n",
      "476                35.0             0.0  \n",
      "...                 ...             ...  \n",
      "2071589            39.0            17.0  \n",
      "2071590            39.0            18.0  \n",
      "2071591            40.0            17.0  \n",
      "2071592            39.0            17.0  \n",
      "2071593            39.0            17.0  \n",
      "\n",
      "[2509 rows x 6 columns]\n",
      "16.994 miliseconds or 0.016994 seconds\n"
     ]
    }
   ],
   "source": [
    "start_time = datetime.datetime.now()\n",
    "\n",
    "df19_20 = df[(df[\"Global_intensity\"] >= 19) & (df[\"Global_intensity\"] <= 20)][[\"Date\", \"Time\", 'Global_intensity', 'Sub_metering_1', 'Sub_metering_2', 'Sub_metering_3']]\n",
    "df19_20\n",
    "print(df19_20[df19_20[\"Sub_metering_2\"] > df19_20[\"Sub_metering_3\"]])\n",
    "\n",
    "\n",
    "end_time = datetime.datetime.now()\n",
    "execution_time = end_time - start_time\n",
    "print(f\"{execution_time.total_seconds() * 1000} miliseconds or {execution_time.total_seconds()} seconds\")"
   ]
  },
  {
   "cell_type": "markdown",
   "id": "7402d8df-2dda-4d08-83fd-41035ad300d7",
   "metadata": {
    "tags": []
   },
   "source": [
    "## 4. Обрати випадковим чином 500000 домогосподарств (без повторів елементів вибірки), для них обчислити середні величини усіх 3-х груп споживання електричної енергії, а також"
   ]
  },
  {
   "cell_type": "code",
   "execution_count": 13,
   "id": "e490da6b-a8e5-4ab5-b0f7-c05171c85205",
   "metadata": {
    "tags": []
   },
   "outputs": [
    {
     "name": "stdout",
     "output_type": "stream",
     "text": [
      "              Date      Time  Average_of_3  Sub_metering_1  Sub_metering_2  \\\n",
      "270221   22/6/2007  09:05:00      5.666667             0.0             0.0   \n",
      "1315796  17/6/2009  11:20:00      0.666667             0.0             1.0   \n",
      "288480    5/7/2007  01:24:00      0.333333             0.0             1.0   \n",
      "1852300  25/6/2010  01:04:00      4.333333             0.0             1.0   \n",
      "1118120  31/1/2009  04:44:00      0.666667             0.0             2.0   \n",
      "...            ...       ...           ...             ...             ...   \n",
      "1325701  24/6/2009  08:25:00      6.000000             0.0             0.0   \n",
      "1158329  28/2/2009  02:53:00      0.000000             0.0             0.0   \n",
      "1414296  24/8/2009  21:00:00      0.333333             0.0             0.0   \n",
      "378148    5/9/2007  07:52:00     18.000000             0.0            36.0   \n",
      "375907    3/9/2007  18:31:00      0.000000             0.0             0.0   \n",
      "\n",
      "         Sub_metering_3  \n",
      "270221             17.0  \n",
      "1315796             1.0  \n",
      "288480              0.0  \n",
      "1852300            12.0  \n",
      "1118120             0.0  \n",
      "...                 ...  \n",
      "1325701            18.0  \n",
      "1158329             0.0  \n",
      "1414296             1.0  \n",
      "378148             18.0  \n",
      "375907              0.0  \n",
      "\n",
      "[500000 rows x 6 columns]\n",
      "255.003 miliseconds or 0.255003 seconds\n"
     ]
    }
   ],
   "source": [
    "start_time = datetime.datetime.now()\n",
    "\n",
    "random_df = df.sample(500000)\n",
    "random_df['Average_of_3'] = (random_df['Sub_metering_1']+random_df['Sub_metering_2']+random_df['Sub_metering_3'])/3\n",
    "print(random_df[[\"Date\", \"Time\", 'Average_of_3', 'Sub_metering_1', 'Sub_metering_2', 'Sub_metering_3']])\n",
    "\n",
    "end_time = datetime.datetime.now()\n",
    "execution_time = end_time - start_time\n",
    "print(f\"{execution_time.total_seconds() * 1000} miliseconds or {execution_time.total_seconds()} seconds\")"
   ]
  },
  {
   "cell_type": "markdown",
   "id": "0ee380ca-2b81-47d2-93d3-81a1a06d9b23",
   "metadata": {
    "tags": []
   },
   "source": [
    "## 5. Обрати ті домогосподарства, які після 18-00 споживають понад 6 кВт за хвилину в середньому, серед відібраних визначити ті, у яких основне споживання електроенергії у вказаний проміжок часу припадає на пральну машину, сушарку, холодильник та освітлення (група 2 є найбільшою), а потім обрати кожен третій результат із першої половини та кожен четвертий результат із другої половини."
   ]
  },
  {
   "cell_type": "code",
   "execution_count": 14,
   "id": "99fa4554-c3c5-414b-befc-0481afc83c44",
   "metadata": {
    "jupyter": {
     "source_hidden": true
    },
    "tags": []
   },
   "outputs": [
    {
     "name": "stdout",
     "output_type": "stream",
     "text": [
      "           Date      Time  Global_active_power  Global_reactive_power  \\\n",
      "0    16/12/2006  18:35:00                6.072                  0.000   \n",
      "1    28/12/2006  21:00:00                6.376                  0.252   \n",
      "2    28/12/2006  21:03:00                7.906                  0.286   \n",
      "3    28/12/2006  21:06:00                7.184                  0.000   \n",
      "4    28/12/2006  21:09:00                7.210                  0.000   \n",
      "..          ...       ...                  ...                    ...   \n",
      "273  20/11/2010  18:30:00                6.620                  0.314   \n",
      "274  20/11/2010  18:34:00                6.266                  0.360   \n",
      "275  20/11/2010  18:38:00                6.302                  0.376   \n",
      "276  20/11/2010  18:42:00                6.238                  0.344   \n",
      "277  20/11/2010  18:46:00                6.438                  0.308   \n",
      "\n",
      "     Voltage  Global_intensity  Sub_metering_1  Sub_metering_2  Sub_metering_3  \n",
      "0     232.48              26.4             0.0            27.0            17.0  \n",
      "1     235.94              27.4             1.0            53.0            17.0  \n",
      "2     235.93              33.6             1.0            73.0            17.0  \n",
      "3     235.70              30.4             2.0            73.0            17.0  \n",
      "4     236.14              30.4             1.0            73.0            17.0  \n",
      "..       ...               ...             ...             ...             ...  \n",
      "273   229.00              29.2            18.0            34.0            16.0  \n",
      "274   229.82              27.6            14.0            35.0            16.0  \n",
      "275   229.65              27.8            15.0            34.0            17.0  \n",
      "276   229.37              27.6            14.0            35.0            16.0  \n",
      "277   229.26              28.4            13.0            39.0            16.0  \n",
      "\n",
      "[278 rows x 9 columns]\n",
      "422.15999999999997 miliseconds or 0.42216 seconds\n"
     ]
    }
   ],
   "source": [
    "# start_time = np.datetime64('now', 'ms')\n",
    "\n",
    "\n",
    "fifth_df = df[(df['Time']>= \"18:30:00\") & (df['Global_active_power']>6) & (df[\"Sub_metering_2\"]>df[\"Sub_metering_1\"]) & (df[\"Sub_metering_2\"]>df[\"Sub_metering_3\"])]\n",
    "# fifth_df\n",
    "order = []\n",
    "for i in range(0, len(fifth_df)//2, 3):\n",
    "    order.append(fifth_df.iloc[i])\n",
    "for i in range(len(fifth_df)//2, len(fifth_df), 4):\n",
    "    order.append(fifth_df.iloc[i])\n",
    "# end_time = np.datetime64('now', 'ms')\n",
    "df_fifth = pd.DataFrame.from_records(order)\n",
    "print(df_fifth)\n",
    "\n",
    "end_time = datetime.datetime.now()\n",
    "execution_time = end_time - start_time\n",
    "print(f\"{execution_time.total_seconds() * 1000} miliseconds or {execution_time.total_seconds()} seconds\")"
   ]
  }
 ],
 "metadata": {
  "kernelspec": {
   "display_name": "Python 3 (ipykernel)",
   "language": "python",
   "name": "python3"
  },
  "language_info": {
   "codemirror_mode": {
    "name": "ipython",
    "version": 3
   },
   "file_extension": ".py",
   "mimetype": "text/x-python",
   "name": "python",
   "nbconvert_exporter": "python",
   "pygments_lexer": "ipython3",
   "version": "3.11.5"
  }
 },
 "nbformat": 4,
 "nbformat_minor": 5
}
