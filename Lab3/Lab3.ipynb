{
 "cells": [
  {
   "cell_type": "markdown",
   "id": "bfc3c134-43d0-489d-8aed-0552bda5caa0",
   "metadata": {
    "tags": []
   },
   "source": [
    "# Setup"
   ]
  },
  {
   "cell_type": "code",
   "execution_count": 3,
   "id": "03e723f8",
   "metadata": {},
   "outputs": [],
   "source": [
    "import pandas as pd\n",
    "import numpy as np\n",
    "import datetime"
   ]
  },
  {
   "cell_type": "code",
   "execution_count": 4,
   "id": "46648b13-225b-4d0e-b8f5-0a955955ff2b",
   "metadata": {
    "tags": []
   },
   "outputs": [],
   "source": [
    "#headers = ['Date', 'Time', 'Global_active_power', 'Global_reactive_power', 'Voltage', 'Global_intensity', 'Sub_metering_1', 'Sub_metering_2', 'Sub_metering_3']\n",
    "dictionary_for_needed_type = {\n",
    "    'Global_active_power': 'float64',\n",
    "    'Global_reactive_power': 'float64',\n",
    "    'Voltage': 'float64',\n",
    "    'Global_intensity': 'float64',\n",
    "    'Sub_metering_1': 'float64',\n",
    "    'Sub_metering_2': 'float64',\n",
    "    'Sub_metering_3': 'float64',\n",
    "                             }"
   ]
  },
  {
   "cell_type": "code",
   "execution_count": null,
   "id": "83c34d4b",
   "metadata": {},
   "outputs": [],
   "source": [
    "start_time = datetime.datetime.now()\n",
    "\n",
    "df = pd.read_csv(\"household_power_consumption.txt\", sep=\";\", low_memory=False)\n",
    "#, index_col=[\"Date\", \"Time\"]\n",
    "\n",
    "end_time = datetime.datetime.now()\n",
    "execution_time = end_time - start_time\n",
    "print(f\"{execution_time.total_seconds() * 1000} miliseconds or {execution_time.total_seconds()} seconds\")"
   ]
  },
  {
   "cell_type": "code",
   "execution_count": null,
   "id": "52f4259e-f1b4-4aab-88fa-e326209acbb0",
   "metadata": {},
   "outputs": [],
   "source": [
    "start_time = datetime.datetime.now()\n",
    "\n",
    "df = df.drop(df.loc[df[\"Date\"]=='?'].index)\n",
    "df = df.drop(df.loc[df[\"Time\"]=='?'].index)\n",
    "df = df.drop(df.loc[df[\"Global_active_power\"]=='?'].index)\n",
    "df = df.drop(df.loc[df[\"Global_reactive_power\"]=='?'].index)\n",
    "df = df.drop(df.loc[df[\"Voltage\"]=='?'].index)\n",
    "df = df.drop(df.loc[df[\"Global_intensity\"]=='?'].index)\n",
    "df = df.drop(df.loc[df[\"Sub_metering_1\"]=='?'].index)\n",
    "df = df.drop(df.loc[df[\"Sub_metering_2\"]=='?'].index)\n",
    "df = df.drop(df.loc[df[\"Sub_metering_3\"]=='?'].index)\n",
    "\n",
    "end_time = datetime.datetime.now()\n",
    "execution_time = end_time - start_time\n",
    "print(f\"{execution_time.total_seconds() * 1000} miliseconds or {execution_time.total_seconds()} seconds\")"
   ]
  },
  {
   "cell_type": "code",
   "execution_count": null,
   "id": "a32b0580-3004-4cc5-964b-554c99b51430",
   "metadata": {},
   "outputs": [],
   "source": [
    "start_time = datetime.datetime.now()\n",
    "\n",
    "df = df.astype(dictionary_for_needed_type)\n",
    "\n",
    "end_time = datetime.datetime.now()\n",
    "execution_time = end_time - start_time\n",
    "print(f\"{execution_time.total_seconds() * 1000} miliseconds or {execution_time.total_seconds()} seconds\")"
   ]
  },
  {
   "cell_type": "markdown",
   "id": "d7b86a4a-10e0-4363-895f-9d323ef8f8e7",
   "metadata": {
    "tags": []
   },
   "source": [
    "# Завдання першого рівня\n",
    "Виконати всі завдання, використовуючи як numpy array, так і dataframe, проаналізувати часові витрати на виконання процедур (профілювання часу виконання), зробити висновки щодо ситуацій, в яких має сенс віддати перевагу тій чи іншій структурі даних. Висновки оформити звітом із зазначеним часом виконання та оцінкою по 5-бальній шкалі зручності виконання операцій відбору)."
   ]
  },
  {
   "cell_type": "markdown",
   "id": "1b30d7c9-6ac9-40a8-8ec4-8c82cedbbb5e",
   "metadata": {
    "tags": []
   },
   "source": [
    "## 1. Обрати всі домогосподарства, у яких загальна активна споживана потужність перевищує 5 кВт."
   ]
  },
  {
   "cell_type": "code",
   "execution_count": null,
   "id": "e0006b64-f1a2-494c-b8c4-d9692674166b",
   "metadata": {},
   "outputs": [],
   "source": [
    "start_time = datetime.datetime.now()\n",
    "\n",
    "print(df[df[\"Global_active_power\"]>5][[\"Date\", \"Time\", 'Global_active_power', 'Sub_metering_1', 'Sub_metering_2', 'Sub_metering_3']])\n",
    "\n",
    "end_time = datetime.datetime.now()\n",
    "execution_time = end_time - start_time\n",
    "print(f\"{execution_time.total_seconds() * 1000} miliseconds or {execution_time.total_seconds()} seconds\")"
   ]
  },
  {
   "cell_type": "markdown",
   "id": "8eab838a-4fd5-48d8-943c-9c1ade2433b2",
   "metadata": {
    "tags": []
   },
   "source": [
    "## 2. Обрати всі домогосподарства, у яких вольтаж перевищую 235 В."
   ]
  },
  {
   "cell_type": "code",
   "execution_count": null,
   "id": "5c756c10-424b-4a43-adf1-987fc02399eb",
   "metadata": {
    "tags": []
   },
   "outputs": [],
   "source": [
    "start_time = datetime.datetime.now()\n",
    "\n",
    "print(df[df[\"Voltage\"]>235][[\"Date\", \"Time\", 'Voltage', 'Sub_metering_1', 'Sub_metering_2', 'Sub_metering_3']])\n",
    "\n",
    "end_time = datetime.datetime.now()\n",
    "execution_time = end_time - start_time\n",
    "print(f\"{execution_time.total_seconds() * 1000} miliseconds or {execution_time.total_seconds()} seconds\")"
   ]
  },
  {
   "cell_type": "markdown",
   "id": "4edc23af-41cf-4b9c-a4b4-d8fb9e4a544c",
   "metadata": {
    "tags": []
   },
   "source": [
    "## 3. Обрати всі домогосподарства, у яких сила струму лежить в межах 19-20 А, для них виявити ті, у яких пральна машина та холодильних споживають більше, ніж бойлер та кондиціонер."
   ]
  },
  {
   "cell_type": "code",
   "execution_count": null,
   "id": "e7cf4c78-ac2f-4f65-b9c5-64458b2583e9",
   "metadata": {
    "tags": []
   },
   "outputs": [],
   "source": [
    "start_time = datetime.datetime.now()\n",
    "\n",
    "df19_20 = df[(df[\"Global_intensity\"] >= 19) & (df[\"Global_intensity\"] <= 20)][[\"Date\", \"Time\", 'Global_intensity', 'Sub_metering_1', 'Sub_metering_2', 'Sub_metering_3']]\n",
    "df19_20\n",
    "print(df19_20[df19_20[\"Sub_metering_2\"] > df19_20[\"Sub_metering_3\"]])\n",
    "\n",
    "\n",
    "end_time = datetime.datetime.now()\n",
    "execution_time = end_time - start_time\n",
    "print(f\"{execution_time.total_seconds() * 1000} miliseconds or {execution_time.total_seconds()} seconds\")"
   ]
  },
  {
   "cell_type": "markdown",
   "id": "7402d8df-2dda-4d08-83fd-41035ad300d7",
   "metadata": {
    "tags": []
   },
   "source": [
    "## 4. Обрати випадковим чином 500000 домогосподарств (без повторів елементів вибірки), для них обчислити середні величини усіх 3-х груп споживання електричної енергії, а також"
   ]
  },
  {
   "cell_type": "code",
   "execution_count": null,
   "id": "e490da6b-a8e5-4ab5-b0f7-c05171c85205",
   "metadata": {
    "tags": []
   },
   "outputs": [],
   "source": [
    "start_time = datetime.datetime.now()\n",
    "\n",
    "random_df = df.sample(500000)\n",
    "random_df['Average_of_3'] = (random_df['Sub_metering_1']+random_df['Sub_metering_2']+random_df['Sub_metering_3'])/3\n",
    "print(random_df[[\"Date\", \"Time\", 'Average_of_3', 'Sub_metering_1', 'Sub_metering_2', 'Sub_metering_3']])\n",
    "\n",
    "end_time = datetime.datetime.now()\n",
    "execution_time = end_time - start_time\n",
    "print(f\"{execution_time.total_seconds() * 1000} miliseconds or {execution_time.total_seconds()} seconds\")"
   ]
  },
  {
   "cell_type": "markdown",
   "id": "0ee380ca-2b81-47d2-93d3-81a1a06d9b23",
   "metadata": {
    "tags": []
   },
   "source": [
    "## 5. Обрати ті домогосподарства, які після 18-00 споживають понад 6 кВт за хвилину в середньому, серед відібраних визначити ті, у яких основне споживання електроенергії у вказаний проміжок часу припадає на пральну машину, сушарку, холодильник та освітлення (група 2 є найбільшою), а потім обрати кожен третій результат із першої половини та кожен четвертий результат із другої половини."
   ]
  },
  {
   "cell_type": "code",
   "execution_count": null,
   "id": "99fa4554-c3c5-414b-befc-0481afc83c44",
   "metadata": {},
   "outputs": [],
   "source": [
    "# start_time = np.datetime64('now', 'ms')\n",
    "\n",
    "\n",
    "fifth_df = df[(df['Time']>= \"18:30:00\") & (df['Global_active_power']>6) & (df[\"Sub_metering_2\"]>df[\"Sub_metering_1\"]) & (df[\"Sub_metering_2\"]>df[\"Sub_metering_3\"])]\n",
    "# fifth_df\n",
    "order = []\n",
    "for i in range(0, len(fifth_df)//2, 3):\n",
    "    order.append(fifth_df.iloc[i])\n",
    "for i in range(len(fifth_df)//2, len(fifth_df), 4):\n",
    "    order.append(fifth_df.iloc[i])\n",
    "# end_time = np.datetime64('now', 'ms')\n",
    "df_fifth = pd.DataFrame.from_records(order)\n",
    "print(df_fifth)\n",
    "\n",
    "end_time = datetime.datetime.now()\n",
    "execution_time = end_time - start_time\n",
    "print(f\"{execution_time.total_seconds() * 1000} miliseconds or {execution_time.total_seconds()} seconds\")"
   ]
  }
 ],
 "metadata": {
  "kernelspec": {
   "display_name": "Python 3 (ipykernel)",
   "language": "python",
   "name": "python3"
  },
  "language_info": {
   "codemirror_mode": {
    "name": "ipython",
    "version": 3
   },
   "file_extension": ".py",
   "mimetype": "text/x-python",
   "name": "python",
   "nbconvert_exporter": "python",
   "pygments_lexer": "ipython3",
   "version": "3.11.5"
  }
 },
 "nbformat": 4,
 "nbformat_minor": 5
}
