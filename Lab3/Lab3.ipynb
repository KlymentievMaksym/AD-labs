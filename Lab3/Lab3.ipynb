{
 "cells": [
  {
   "cell_type": "markdown",
   "id": "bfc3c134-43d0-489d-8aed-0552bda5caa0",
   "metadata": {
    "tags": []
   },
   "source": [
    "# Setup"
   ]
  },
  {
   "cell_type": "code",
   "execution_count": 2,
   "id": "03e723f8",
   "metadata": {},
   "outputs": [],
   "source": [
    "import pandas as pd\n",
    "import numpy as np\n",
    "import datetime"
   ]
  },
  {
   "cell_type": "code",
   "execution_count": 181,
   "id": "89f19d01-7fa9-4f2e-afd1-a2a248503bdb",
   "metadata": {},
   "outputs": [],
   "source": [
    "def start_time():\n",
    "    return datetime.datetime.now()\n",
    "\n",
    "\n",
    "def end_time(start_time, get_time=False, name_to_announce=''):\n",
    "    end_time = datetime.datetime.now()\n",
    "    execution_time = end_time - start_time\n",
    "    \n",
    "    result = name_to_announce != \"\"\n",
    "    \n",
    "#    print(result)\n",
    "    \n",
    "    print([f\"{execution_time.total_seconds() * 1000} miliseconds or {execution_time.total_seconds()} seconds\", f\"{execution_time.total_seconds() * 1000} miliseconds or {execution_time.total_seconds()} seconds for {name_to_announce}\"][name_to_announce != \"\"])\n",
    "    if get_time: return execution_time\n",
    "\n",
    "def compare_df_time_and_nar_time(df_time, nar_time, get_compare=False):\n",
    "    compare = abs(df_time.total_seconds()-nar_time.total_seconds())\n",
    "    \n",
    "    if df_time>nar_time: print(f'time for nar is faster for {compare} seconds')\n",
    "    elif df_time==nar_time: print(\"They are equal\")\n",
    "    else: print(f'time for df is faster for {compare} seconds')\n",
    "    \n",
    "    if get_compare: return compare"
   ]
  },
  {
   "cell_type": "markdown",
   "id": "d7b86a4a-10e0-4363-895f-9d323ef8f8e7",
   "metadata": {
    "tags": []
   },
   "source": [
    "***\n",
    "# Завдання першого рівня\n",
    "Виконати всі завдання, використовуючи як numpy array, так і dataframe, проаналізувати часові витрати на виконання процедур (профілювання часу виконання), зробити висновки щодо ситуацій, в яких має сенс віддати перевагу тій чи іншій структурі даних. Висновки оформити звітом із зазначеним часом виконання та оцінкою по 5-бальній шкалі зручності виконання операцій відбору)."
   ]
  },
  {
   "cell_type": "markdown",
   "id": "0b39e139-dba2-4492-bd24-47d4aa1a80fc",
   "metadata": {
    "tags": []
   },
   "source": [
    "## Reading and Dropping"
   ]
  },
  {
   "cell_type": "code",
   "execution_count": 4,
   "id": "46648b13-225b-4d0e-b8f5-0a955955ff2b",
   "metadata": {
    "tags": []
   },
   "outputs": [],
   "source": [
    "dictionary_for_needed_type = {\n",
    "    'Global_active_power': 'float64',\n",
    "    'Global_reactive_power': 'float64',\n",
    "    'Voltage': 'float64',\n",
    "    'Global_intensity': 'float64',\n",
    "    'Sub_metering_1': 'float64',\n",
    "    'Sub_metering_2': 'float64',\n",
    "    'Sub_metering_3': 'float64',\n",
    "                             }"
   ]
  },
  {
   "cell_type": "code",
   "execution_count": 183,
   "id": "83c34d4b",
   "metadata": {},
   "outputs": [
    {
     "name": "stdout",
     "output_type": "stream",
     "text": [
      "1832.9979999999998 miliseconds or 1.832998 seconds for receiving data frame\n",
      "326.998 miliseconds or 0.326998 seconds for receiving numpy array\n"
     ]
    }
   ],
   "source": [
    "time = start_time()\n",
    "\n",
    "df = pd.read_csv(\"household_power_consumption.txt\", sep=\";\", low_memory=False)\n",
    "\n",
    "end_time(time, name_to_announce=\"receiving data frame\")\n",
    "\n",
    "time = start_time()\n",
    "\n",
    "nar = df.values\n",
    "\n",
    "end_time(time, name_to_announce=\"receiving numpy array\")"
   ]
  },
  {
   "cell_type": "code",
   "execution_count": 176,
   "id": "52f4259e-f1b4-4aab-88fa-e326209acbb0",
   "metadata": {},
   "outputs": [
    {
     "name": "stdout",
     "output_type": "stream",
     "text": [
      "1341.9959999999999 miliseconds or 1.341996 seconds for df\n",
      "479.0 miliseconds or 0.479 seconds for nar\n",
      "time for nar is faster for 0.862996 seconds\n"
     ]
    }
   ],
   "source": [
    "time = start_time()\n",
    "\n",
    "df.replace('?', pd.NA, inplace=True)\n",
    "df.dropna(inplace=True)\n",
    "\n",
    "df_time = end_time(time, True, \"df\")\n",
    "\n",
    "time = start_time()\n",
    "\n",
    "nar = np.delete(nar, np.where(nar == '?'), 0)\n",
    "\n",
    "nar_time = end_time(time, True, \"nar\")\n",
    "\n",
    "compare_df_time_and_nar_time(df_time, nar_time)"
   ]
  },
  {
   "cell_type": "code",
   "execution_count": 170,
   "id": "a32b0580-3004-4cc5-964b-554c99b51430",
   "metadata": {},
   "outputs": [
    {
     "name": "stdout",
     "output_type": "stream",
     "text": [
      "1915.226 miliseconds or 1.915226 seconds\n"
     ]
    }
   ],
   "source": [
    "time = start_time()\n",
    "\n",
    "df = df.astype(dictionary_for_needed_type)\n",
    "\n",
    "end_time(time)"
   ]
  },
  {
   "cell_type": "markdown",
   "id": "1b30d7c9-6ac9-40a8-8ec4-8c82cedbbb5e",
   "metadata": {
    "jp-MarkdownHeadingCollapsed": true,
    "tags": []
   },
   "source": [
    "## 1. Обрати всі домогосподарства, у яких загальна активна споживана потужність перевищує 5 кВт."
   ]
  },
  {
   "cell_type": "code",
   "execution_count": null,
   "id": "e0006b64-f1a2-494c-b8c4-d9692674166b",
   "metadata": {},
   "outputs": [],
   "source": [
    "start_time = datetime.datetime.now()\n",
    "\n",
    "df_first = df[df[\"Global_active_power\"]>5][[\"Date\", \"Time\", 'Global_active_power', 'Sub_metering_1', 'Sub_metering_2', 'Sub_metering_3']]\n",
    "\n",
    "end_time = datetime.datetime.now()\n",
    "execution_time = end_time - start_time\n",
    "print(f\"{execution_time.total_seconds() * 1000} miliseconds or {execution_time.total_seconds()} seconds\")"
   ]
  },
  {
   "cell_type": "code",
   "execution_count": null,
   "id": "024d9fa2-c5a8-481f-8e52-a2695966af93",
   "metadata": {
    "tags": []
   },
   "outputs": [],
   "source": [
    "df_first"
   ]
  },
  {
   "cell_type": "markdown",
   "id": "8eab838a-4fd5-48d8-943c-9c1ade2433b2",
   "metadata": {
    "jp-MarkdownHeadingCollapsed": true,
    "tags": []
   },
   "source": [
    "## 2. Обрати всі домогосподарства, у яких вольтаж перевищую 235 В."
   ]
  },
  {
   "cell_type": "code",
   "execution_count": null,
   "id": "5c756c10-424b-4a43-adf1-987fc02399eb",
   "metadata": {
    "tags": []
   },
   "outputs": [],
   "source": [
    "start_time = datetime.datetime.now()\n",
    "\n",
    "df_second = df[df[\"Voltage\"]>235][[\"Date\", \"Time\", 'Voltage', 'Sub_metering_1', 'Sub_metering_2', 'Sub_metering_3']]\n",
    "\n",
    "end_time = datetime.datetime.now()\n",
    "execution_time = end_time - start_time\n",
    "print(f\"{execution_time.total_seconds() * 1000} miliseconds or {execution_time.total_seconds()} seconds\")"
   ]
  },
  {
   "cell_type": "code",
   "execution_count": null,
   "id": "d92ea15d-5563-45d8-a42f-6a1920befde9",
   "metadata": {
    "tags": []
   },
   "outputs": [],
   "source": [
    "df_second"
   ]
  },
  {
   "cell_type": "markdown",
   "id": "4edc23af-41cf-4b9c-a4b4-d8fb9e4a544c",
   "metadata": {
    "jp-MarkdownHeadingCollapsed": true,
    "tags": []
   },
   "source": [
    "## 3. Обрати всі домогосподарства, у яких сила струму лежить в межах 19-20 А, для них виявити ті, у яких пральна машина та холодильних споживають більше, ніж бойлер та кондиціонер."
   ]
  },
  {
   "cell_type": "code",
   "execution_count": null,
   "id": "e7cf4c78-ac2f-4f65-b9c5-64458b2583e9",
   "metadata": {
    "tags": []
   },
   "outputs": [],
   "source": [
    "start_time = datetime.datetime.now()\n",
    "\n",
    "df19_20 = df[(df[\"Global_intensity\"] >= 19) & (df[\"Global_intensity\"] <= 20)][[\"Date\", \"Time\", 'Global_intensity', 'Sub_metering_1', 'Sub_metering_2', 'Sub_metering_3']]\n",
    "# df19_20\n",
    "df_third = df19_20[df19_20[\"Sub_metering_2\"] > df19_20[\"Sub_metering_3\"]]\n",
    "\n",
    "end_time = datetime.datetime.now()\n",
    "execution_time = end_time - start_time\n",
    "print(f\"{execution_time.total_seconds() * 1000} miliseconds or {execution_time.total_seconds()} seconds\")"
   ]
  },
  {
   "cell_type": "code",
   "execution_count": null,
   "id": "eacb8c19-b21f-4ced-8f3f-d000bdb5752d",
   "metadata": {
    "tags": []
   },
   "outputs": [],
   "source": [
    "df_third"
   ]
  },
  {
   "cell_type": "markdown",
   "id": "7402d8df-2dda-4d08-83fd-41035ad300d7",
   "metadata": {
    "jp-MarkdownHeadingCollapsed": true,
    "tags": []
   },
   "source": [
    "## 4. Обрати випадковим чином 500000 домогосподарств (без повторів елементів вибірки), для них обчислити середні величини усіх 3-х груп споживання електричної енергії, а також"
   ]
  },
  {
   "cell_type": "code",
   "execution_count": null,
   "id": "e490da6b-a8e5-4ab5-b0f7-c05171c85205",
   "metadata": {
    "tags": []
   },
   "outputs": [],
   "source": [
    "start_time = datetime.datetime.now()\n",
    "\n",
    "random_df = df.sample(500000)\n",
    "random_df['Average_of_3'] = (random_df['Sub_metering_1']+random_df['Sub_metering_2']+random_df['Sub_metering_3'])/3\n",
    "df_fourth = random_df[[\"Date\", \"Time\", 'Average_of_3', 'Sub_metering_1', 'Sub_metering_2', 'Sub_metering_3']]\n",
    "\n",
    "end_time = datetime.datetime.now()\n",
    "execution_time = end_time - start_time\n",
    "print(f\"{execution_time.total_seconds() * 1000} miliseconds or {execution_time.total_seconds()} seconds\")"
   ]
  },
  {
   "cell_type": "code",
   "execution_count": null,
   "id": "45cc8808-f37b-456f-a1e2-617dae389dfb",
   "metadata": {
    "tags": []
   },
   "outputs": [],
   "source": [
    "df_fourth"
   ]
  },
  {
   "cell_type": "markdown",
   "id": "0ee380ca-2b81-47d2-93d3-81a1a06d9b23",
   "metadata": {
    "tags": []
   },
   "source": [
    "## 5. Обрати ті домогосподарства, які після 18-00 споживають понад 6 кВт за хвилину в середньому, серед відібраних визначити ті, у яких основне споживання електроенергії у вказаний проміжок часу припадає на пральну машину, сушарку, холодильник та освітлення (група 2 є найбільшою), а потім обрати кожен третій результат із першої половини та кожен четвертий результат із другої половини."
   ]
  },
  {
   "cell_type": "code",
   "execution_count": null,
   "id": "99fa4554-c3c5-414b-befc-0481afc83c44",
   "metadata": {
    "tags": []
   },
   "outputs": [],
   "source": [
    "# start_time = np.datetime64('now', 'ms')\n",
    "start_time = datetime.datetime.now()\n",
    "\n",
    "fifth_df = df[(df['Time']>= \"18:30:00\") & (df['Global_active_power']>6) & (df[\"Sub_metering_2\"]>df[\"Sub_metering_1\"]) & (df[\"Sub_metering_2\"]>df[\"Sub_metering_3\"])]\n",
    "# fifth_df\n",
    "order = []\n",
    "for i in range(0, len(fifth_df)//2, 3):\n",
    "    order.append(fifth_df.iloc[i])\n",
    "for i in range(len(fifth_df)//2, len(fifth_df), 4):\n",
    "    order.append(fifth_df.iloc[i])\n",
    "# end_time = np.datetime64('now', 'ms')\n",
    "df_fifth = pd.DataFrame.from_records(order)\n",
    "# print(df_fifth)\n",
    "\n",
    "end_time = datetime.datetime.now()\n",
    "execution_time = end_time - start_time\n",
    "print(f\"{execution_time.total_seconds() * 1000} miliseconds or {execution_time.total_seconds()} seconds\")"
   ]
  },
  {
   "cell_type": "code",
   "execution_count": null,
   "id": "53e1fcf2-f347-41e0-aae4-6f4e0786e4c5",
   "metadata": {},
   "outputs": [],
   "source": [
    "df_fifth"
   ]
  },
  {
   "cell_type": "markdown",
   "id": "c9d86a1a-5684-482d-a6f0-f2afaab9aedb",
   "metadata": {
    "jp-MarkdownHeadingCollapsed": true,
    "tags": []
   },
   "source": [
    "***\n",
    "# *Завдання другого рівня*\n",
    "\n",
    "Виконати всі завдання, використовуючи як numpy array, так і dataframe"
   ]
  },
  {
   "cell_type": "markdown",
   "id": "df7be364-bb99-4ce0-ac15-9f4613ccfec0",
   "metadata": {
    "tags": []
   },
   "source": [
    "## 1. Поборотися із зниклими даними. Для цього в допомогу вам [Медіум](https://towardsdatascience.com/how-to-handle-missing-data-8646b18db0d4)."
   ]
  },
  {
   "cell_type": "markdown",
   "id": "a15e56d4-6fda-45c6-8162-40bfb3f64a51",
   "metadata": {},
   "source": [
    "## 2. Пронормувати вибраний датасет або стандартизувати його (нормалізація і стандартизація мають бути реалізовані як окремі функції без застосування додаткових бібліотек, як наприклад sklearn.preprocessing)."
   ]
  },
  {
   "cell_type": "markdown",
   "id": "3642c1bd-8260-4be6-810a-af166571edc3",
   "metadata": {},
   "source": [
    "## 3. Збудувати гістограму по одному із атрибутів, що буде показувати на кількість елементів, що знаходяться у 10 діапазонах, які ви задасте."
   ]
  },
  {
   "cell_type": "markdown",
   "id": "31d80bd1-971d-4e49-bc45-05fb84f92f5f",
   "metadata": {},
   "source": [
    "## 4. Збудувати графік залежності одного integer/real атрибута від іншого."
   ]
  },
  {
   "cell_type": "markdown",
   "id": "8dc95b8e-1a5c-44e9-b18b-04041195baf3",
   "metadata": {},
   "source": [
    "## 5. Підрахувати коефіцієнт Пірсона та Спірсона для двох integer/real атрибутів."
   ]
  },
  {
   "cell_type": "markdown",
   "id": "08740586-d5e6-45b4-a11c-79274ce2db7c",
   "metadata": {},
   "source": [
    "## 6. Провести One Hot Encoding категоріального string атрибуту."
   ]
  },
  {
   "cell_type": "markdown",
   "id": "d6cb78c2-76bc-4dac-a062-c51aba85d3e5",
   "metadata": {},
   "source": [
    "## 7. Провести візуалізацію багатовимірних даних, використовуючи приклади, наведені у [медіумі](https://towardsdatascience.com/the-art-of-effective-visualization-of-multi-dimensional-data-6c7202990c57)."
   ]
  },
  {
   "cell_type": "markdown",
   "id": "17a27c6c-e9ad-4c84-b467-2e6f98f762a9",
   "metadata": {
    "tags": []
   },
   "source": [
    "***\n",
    "# *Додаткове завдання*:  "
   ]
  },
  {
   "cell_type": "markdown",
   "id": "d42b3b3b-2ff3-4cda-b91b-75f5450a45c4",
   "metadata": {},
   "source": [
    "## 8. Поділити випадковим чином датасет на дві рівні частини. Навчити 3 регресійні моделі на основі не менше одного атрибуту відновлювати інший. Навчання має відбуватися на основі [першого датасету](https://scikit-learn.org/stable/modules/linear_model.html), візуалізувати моделі та на основі [середньої квадратичної помилки](https://scikit-learn.org/stable/modules/generated/sklearn.metrics.mean_squared_error.html) вибрати найкращу."
   ]
  },
  {
   "cell_type": "code",
   "execution_count": null,
   "id": "ebb6de13-1cf9-47c2-8480-54571d470c95",
   "metadata": {},
   "outputs": [],
   "source": []
  }
 ],
 "metadata": {
  "kernelspec": {
   "display_name": "Python 3 (ipykernel)",
   "language": "python",
   "name": "python3"
  },
  "language_info": {
   "codemirror_mode": {
    "name": "ipython",
    "version": 3
   },
   "file_extension": ".py",
   "mimetype": "text/x-python",
   "name": "python",
   "nbconvert_exporter": "python",
   "pygments_lexer": "ipython3",
   "version": "3.11.5"
  }
 },
 "nbformat": 4,
 "nbformat_minor": 5
}
