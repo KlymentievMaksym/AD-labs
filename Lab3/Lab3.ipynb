{
 "cells": [
  {
   "cell_type": "markdown",
   "id": "bfc3c134-43d0-489d-8aed-0552bda5caa0",
   "metadata": {
    "tags": []
   },
   "source": [
    "# Setup"
   ]
  },
  {
   "cell_type": "code",
   "execution_count": 210,
   "id": "03e723f8",
   "metadata": {},
   "outputs": [],
   "source": [
    "import pandas as pd\n",
    "import numpy as np\n",
    "import scipy\n",
    "\n",
    "import seaborn as sns\n",
    "import matplotlib.pyplot as plt\n",
    "\n",
    "from sklearn.preprocessing import OneHotEncoder\n",
    "from sklearn.model_selection import train_test_split\n",
    "from sklearn.linear_model import LinearRegression\n",
    "from sklearn.svm import SVR\n",
    "from sklearn.tree import DecisionTreeRegressor\n",
    "from sklearn.metrics import mean_squared_error"
   ]
  },
  {
   "cell_type": "markdown",
   "id": "d7b86a4a-10e0-4363-895f-9d323ef8f8e7",
   "metadata": {
    "tags": []
   },
   "source": [
    "***\n",
    "# Завдання першого рівня\n",
    "Виконати всі завдання, використовуючи як numpy array, так і dataframe, проаналізувати часові витрати на виконання процедур (профілювання часу виконання), зробити висновки щодо ситуацій, в яких має сенс віддати перевагу тій чи іншій структурі даних. Висновки оформити звітом із зазначеним часом виконання та оцінкою по 5-бальній шкалі зручності виконання операцій відбору)."
   ]
  },
  {
   "cell_type": "markdown",
   "id": "0b39e139-dba2-4492-bd24-47d4aa1a80fc",
   "metadata": {
    "tags": []
   },
   "source": [
    "## Reading and Dropping"
   ]
  },
  {
   "cell_type": "code",
   "execution_count": 211,
   "id": "46648b13-225b-4d0e-b8f5-0a955955ff2b",
   "metadata": {
    "tags": []
   },
   "outputs": [],
   "source": [
    "dictionary_for_needed_type = {\n",
    "    'Global_active_power': 'float64',\n",
    "    'Global_reactive_power': 'float64',\n",
    "    'Voltage': 'float64',\n",
    "    'Global_intensity': 'float64',\n",
    "    'Sub_metering_1': 'float64',\n",
    "    'Sub_metering_2': 'float64',\n",
    "    'Sub_metering_3': 'float64',\n",
    "                             }"
   ]
  },
  {
   "cell_type": "code",
   "execution_count": 212,
   "id": "83c34d4b",
   "metadata": {},
   "outputs": [],
   "source": [
    "df = pd.read_csv(\"household_power_consumption.txt\", sep=\";\", low_memory=False)\n",
    "nar = df.values"
   ]
  },
  {
   "cell_type": "code",
   "execution_count": 213,
   "id": "52f4259e-f1b4-4aab-88fa-e326209acbb0",
   "metadata": {
    "tags": []
   },
   "outputs": [],
   "source": [
    "df.replace('?', pd.NA, inplace=True)\n",
    "df.dropna(inplace=True)\n",
    "\n",
    "nar = np.delete(nar, np.where(nar == '?'), 0)"
   ]
  },
  {
   "cell_type": "code",
   "execution_count": 214,
   "id": "a32b0580-3004-4cc5-964b-554c99b51430",
   "metadata": {
    "tags": []
   },
   "outputs": [],
   "source": [
    "df = df.astype(dictionary_for_needed_type)\n",
    "ar = np.concatenate((nar[:, [0, 1]], nar[:, [2, 3, 4, 5]].astype(float), nar[:, [6, 7, 8]].astype(float).astype(int)), axis=1)"
   ]
  },
  {
   "cell_type": "markdown",
   "id": "1b30d7c9-6ac9-40a8-8ec4-8c82cedbbb5e",
   "metadata": {
    "jp-MarkdownHeadingCollapsed": true,
    "tags": []
   },
   "source": [
    "## 1. Обрати всі домогосподарства, у яких загальна активна споживана потужність перевищує 5 кВт."
   ]
  },
  {
   "cell_type": "code",
   "execution_count": 215,
   "id": "e0006b64-f1a2-494c-b8c4-d9692674166b",
   "metadata": {},
   "outputs": [
    {
     "name": "stdout",
     "output_type": "stream",
     "text": [
      "5.9 ms ± 549 µs per loop (mean ± std. dev. of 2 runs, 100 loops each)\n",
      "49 ms ± 29.8 µs per loop (mean ± std. dev. of 2 runs, 100 loops each)\n"
     ]
    }
   ],
   "source": [
    "def get_df_first(df):\n",
    "    df_first = df[df[\"Global_active_power\"]>5][[\"Date\", \"Time\", 'Global_active_power', 'Sub_metering_1', 'Sub_metering_2', 'Sub_metering_3']]\n",
    "    return df_first\n",
    "    \n",
    "    \n",
    "def get_ar_first(ar):\n",
    "    ar_first = ar[ar[..., 2]>5]\n",
    "    return ar_first\n",
    "\n",
    "%timeit -r 2 -n 100 get_df_first(df)\n",
    "%timeit -r 2 -n 100 get_ar_first(ar)\n",
    "\n",
    "df_first = get_df_first(df)\n",
    "ar_first = get_ar_first(ar)"
   ]
  },
  {
   "cell_type": "code",
   "execution_count": 216,
   "id": "024d9fa2-c5a8-481f-8e52-a2695966af93",
   "metadata": {
    "tags": []
   },
   "outputs": [
    {
     "data": {
      "text/html": [
       "<div>\n",
       "<style scoped>\n",
       "    .dataframe tbody tr th:only-of-type {\n",
       "        vertical-align: middle;\n",
       "    }\n",
       "\n",
       "    .dataframe tbody tr th {\n",
       "        vertical-align: top;\n",
       "    }\n",
       "\n",
       "    .dataframe thead th {\n",
       "        text-align: right;\n",
       "    }\n",
       "</style>\n",
       "<table border=\"1\" class=\"dataframe\">\n",
       "  <thead>\n",
       "    <tr style=\"text-align: right;\">\n",
       "      <th></th>\n",
       "      <th>Date</th>\n",
       "      <th>Time</th>\n",
       "      <th>Global_active_power</th>\n",
       "      <th>Sub_metering_1</th>\n",
       "      <th>Sub_metering_2</th>\n",
       "      <th>Sub_metering_3</th>\n",
       "    </tr>\n",
       "  </thead>\n",
       "  <tbody>\n",
       "    <tr>\n",
       "      <th>1</th>\n",
       "      <td>16/12/2006</td>\n",
       "      <td>17:25:00</td>\n",
       "      <td>5.360</td>\n",
       "      <td>0.0</td>\n",
       "      <td>1.0</td>\n",
       "      <td>16.0</td>\n",
       "    </tr>\n",
       "    <tr>\n",
       "      <th>2</th>\n",
       "      <td>16/12/2006</td>\n",
       "      <td>17:26:00</td>\n",
       "      <td>5.374</td>\n",
       "      <td>0.0</td>\n",
       "      <td>2.0</td>\n",
       "      <td>17.0</td>\n",
       "    </tr>\n",
       "    <tr>\n",
       "      <th>3</th>\n",
       "      <td>16/12/2006</td>\n",
       "      <td>17:27:00</td>\n",
       "      <td>5.388</td>\n",
       "      <td>0.0</td>\n",
       "      <td>1.0</td>\n",
       "      <td>17.0</td>\n",
       "    </tr>\n",
       "    <tr>\n",
       "      <th>11</th>\n",
       "      <td>16/12/2006</td>\n",
       "      <td>17:35:00</td>\n",
       "      <td>5.412</td>\n",
       "      <td>0.0</td>\n",
       "      <td>1.0</td>\n",
       "      <td>17.0</td>\n",
       "    </tr>\n",
       "    <tr>\n",
       "      <th>12</th>\n",
       "      <td>16/12/2006</td>\n",
       "      <td>17:36:00</td>\n",
       "      <td>5.224</td>\n",
       "      <td>0.0</td>\n",
       "      <td>1.0</td>\n",
       "      <td>16.0</td>\n",
       "    </tr>\n",
       "    <tr>\n",
       "      <th>...</th>\n",
       "      <td>...</td>\n",
       "      <td>...</td>\n",
       "      <td>...</td>\n",
       "      <td>...</td>\n",
       "      <td>...</td>\n",
       "      <td>...</td>\n",
       "    </tr>\n",
       "    <tr>\n",
       "      <th>2069356</th>\n",
       "      <td>22/11/2010</td>\n",
       "      <td>18:40:00</td>\n",
       "      <td>5.408</td>\n",
       "      <td>48.0</td>\n",
       "      <td>0.0</td>\n",
       "      <td>0.0</td>\n",
       "    </tr>\n",
       "    <tr>\n",
       "      <th>2069357</th>\n",
       "      <td>22/11/2010</td>\n",
       "      <td>18:41:00</td>\n",
       "      <td>5.528</td>\n",
       "      <td>53.0</td>\n",
       "      <td>0.0</td>\n",
       "      <td>0.0</td>\n",
       "    </tr>\n",
       "    <tr>\n",
       "      <th>2071586</th>\n",
       "      <td>24/11/2010</td>\n",
       "      <td>07:50:00</td>\n",
       "      <td>5.172</td>\n",
       "      <td>0.0</td>\n",
       "      <td>38.0</td>\n",
       "      <td>17.0</td>\n",
       "    </tr>\n",
       "    <tr>\n",
       "      <th>2071587</th>\n",
       "      <td>24/11/2010</td>\n",
       "      <td>07:51:00</td>\n",
       "      <td>5.750</td>\n",
       "      <td>0.0</td>\n",
       "      <td>39.0</td>\n",
       "      <td>17.0</td>\n",
       "    </tr>\n",
       "    <tr>\n",
       "      <th>2072997</th>\n",
       "      <td>25/11/2010</td>\n",
       "      <td>07:21:00</td>\n",
       "      <td>5.074</td>\n",
       "      <td>1.0</td>\n",
       "      <td>2.0</td>\n",
       "      <td>18.0</td>\n",
       "    </tr>\n",
       "  </tbody>\n",
       "</table>\n",
       "<p>17547 rows × 6 columns</p>\n",
       "</div>"
      ],
      "text/plain": [
       "               Date      Time  Global_active_power  Sub_metering_1  \\\n",
       "1        16/12/2006  17:25:00                5.360             0.0   \n",
       "2        16/12/2006  17:26:00                5.374             0.0   \n",
       "3        16/12/2006  17:27:00                5.388             0.0   \n",
       "11       16/12/2006  17:35:00                5.412             0.0   \n",
       "12       16/12/2006  17:36:00                5.224             0.0   \n",
       "...             ...       ...                  ...             ...   \n",
       "2069356  22/11/2010  18:40:00                5.408            48.0   \n",
       "2069357  22/11/2010  18:41:00                5.528            53.0   \n",
       "2071586  24/11/2010  07:50:00                5.172             0.0   \n",
       "2071587  24/11/2010  07:51:00                5.750             0.0   \n",
       "2072997  25/11/2010  07:21:00                5.074             1.0   \n",
       "\n",
       "         Sub_metering_2  Sub_metering_3  \n",
       "1                   1.0            16.0  \n",
       "2                   2.0            17.0  \n",
       "3                   1.0            17.0  \n",
       "11                  1.0            17.0  \n",
       "12                  1.0            16.0  \n",
       "...                 ...             ...  \n",
       "2069356             0.0             0.0  \n",
       "2069357             0.0             0.0  \n",
       "2071586            38.0            17.0  \n",
       "2071587            39.0            17.0  \n",
       "2072997             2.0            18.0  \n",
       "\n",
       "[17547 rows x 6 columns]"
      ]
     },
     "execution_count": 216,
     "metadata": {},
     "output_type": "execute_result"
    }
   ],
   "source": [
    "df_first"
   ]
  },
  {
   "cell_type": "code",
   "execution_count": 217,
   "id": "97845213-5761-4ea9-8071-4ea818d312d5",
   "metadata": {},
   "outputs": [
    {
     "data": {
      "text/html": [
       "<div>\n",
       "<style scoped>\n",
       "    .dataframe tbody tr th:only-of-type {\n",
       "        vertical-align: middle;\n",
       "    }\n",
       "\n",
       "    .dataframe tbody tr th {\n",
       "        vertical-align: top;\n",
       "    }\n",
       "\n",
       "    .dataframe thead th {\n",
       "        text-align: right;\n",
       "    }\n",
       "</style>\n",
       "<table border=\"1\" class=\"dataframe\">\n",
       "  <thead>\n",
       "    <tr style=\"text-align: right;\">\n",
       "      <th></th>\n",
       "      <th>0</th>\n",
       "      <th>1</th>\n",
       "      <th>2</th>\n",
       "      <th>6</th>\n",
       "      <th>7</th>\n",
       "      <th>8</th>\n",
       "    </tr>\n",
       "  </thead>\n",
       "  <tbody>\n",
       "    <tr>\n",
       "      <th>0</th>\n",
       "      <td>16/12/2006</td>\n",
       "      <td>17:25:00</td>\n",
       "      <td>5.360</td>\n",
       "      <td>0</td>\n",
       "      <td>1</td>\n",
       "      <td>16</td>\n",
       "    </tr>\n",
       "    <tr>\n",
       "      <th>1</th>\n",
       "      <td>16/12/2006</td>\n",
       "      <td>17:35:00</td>\n",
       "      <td>5.412</td>\n",
       "      <td>0</td>\n",
       "      <td>1</td>\n",
       "      <td>17</td>\n",
       "    </tr>\n",
       "    <tr>\n",
       "      <th>2</th>\n",
       "      <td>16/12/2006</td>\n",
       "      <td>17:36:00</td>\n",
       "      <td>5.224</td>\n",
       "      <td>0</td>\n",
       "      <td>1</td>\n",
       "      <td>16</td>\n",
       "    </tr>\n",
       "    <tr>\n",
       "      <th>3</th>\n",
       "      <td>16/12/2006</td>\n",
       "      <td>17:37:00</td>\n",
       "      <td>5.268</td>\n",
       "      <td>0</td>\n",
       "      <td>2</td>\n",
       "      <td>17</td>\n",
       "    </tr>\n",
       "    <tr>\n",
       "      <th>4</th>\n",
       "      <td>16/12/2006</td>\n",
       "      <td>17:44:00</td>\n",
       "      <td>5.894</td>\n",
       "      <td>0</td>\n",
       "      <td>0</td>\n",
       "      <td>16</td>\n",
       "    </tr>\n",
       "    <tr>\n",
       "      <th>...</th>\n",
       "      <td>...</td>\n",
       "      <td>...</td>\n",
       "      <td>...</td>\n",
       "      <td>...</td>\n",
       "      <td>...</td>\n",
       "      <td>...</td>\n",
       "    </tr>\n",
       "    <tr>\n",
       "      <th>17540</th>\n",
       "      <td>22/11/2010</td>\n",
       "      <td>18:40:00</td>\n",
       "      <td>5.408</td>\n",
       "      <td>48</td>\n",
       "      <td>0</td>\n",
       "      <td>0</td>\n",
       "    </tr>\n",
       "    <tr>\n",
       "      <th>17541</th>\n",
       "      <td>22/11/2010</td>\n",
       "      <td>18:41:00</td>\n",
       "      <td>5.528</td>\n",
       "      <td>53</td>\n",
       "      <td>0</td>\n",
       "      <td>0</td>\n",
       "    </tr>\n",
       "    <tr>\n",
       "      <th>17542</th>\n",
       "      <td>24/11/2010</td>\n",
       "      <td>07:50:00</td>\n",
       "      <td>5.172</td>\n",
       "      <td>0</td>\n",
       "      <td>38</td>\n",
       "      <td>17</td>\n",
       "    </tr>\n",
       "    <tr>\n",
       "      <th>17543</th>\n",
       "      <td>24/11/2010</td>\n",
       "      <td>07:51:00</td>\n",
       "      <td>5.750</td>\n",
       "      <td>0</td>\n",
       "      <td>39</td>\n",
       "      <td>17</td>\n",
       "    </tr>\n",
       "    <tr>\n",
       "      <th>17544</th>\n",
       "      <td>25/11/2010</td>\n",
       "      <td>07:21:00</td>\n",
       "      <td>5.074</td>\n",
       "      <td>1</td>\n",
       "      <td>2</td>\n",
       "      <td>18</td>\n",
       "    </tr>\n",
       "  </tbody>\n",
       "</table>\n",
       "<p>17545 rows × 6 columns</p>\n",
       "</div>"
      ],
      "text/plain": [
       "                0         1      2   6   7   8\n",
       "0      16/12/2006  17:25:00  5.360   0   1  16\n",
       "1      16/12/2006  17:35:00  5.412   0   1  17\n",
       "2      16/12/2006  17:36:00  5.224   0   1  16\n",
       "3      16/12/2006  17:37:00  5.268   0   2  17\n",
       "4      16/12/2006  17:44:00  5.894   0   0  16\n",
       "...           ...       ...    ...  ..  ..  ..\n",
       "17540  22/11/2010  18:40:00  5.408  48   0   0\n",
       "17541  22/11/2010  18:41:00  5.528  53   0   0\n",
       "17542  24/11/2010  07:50:00  5.172   0  38  17\n",
       "17543  24/11/2010  07:51:00  5.750   0  39  17\n",
       "17544  25/11/2010  07:21:00  5.074   1   2  18\n",
       "\n",
       "[17545 rows x 6 columns]"
      ]
     },
     "execution_count": 217,
     "metadata": {},
     "output_type": "execute_result"
    }
   ],
   "source": [
    "pd.DataFrame.from_records(ar_first)[[0, 1, 2, 6, 7, 8]]"
   ]
  },
  {
   "cell_type": "markdown",
   "id": "8eab838a-4fd5-48d8-943c-9c1ade2433b2",
   "metadata": {
    "tags": []
   },
   "source": [
    "## 2. Обрати всі домогосподарства, у яких вольтаж перевищую 235 В."
   ]
  },
  {
   "cell_type": "code",
   "execution_count": 218,
   "id": "5c756c10-424b-4a43-adf1-987fc02399eb",
   "metadata": {
    "tags": []
   },
   "outputs": [
    {
     "name": "stdout",
     "output_type": "stream",
     "text": [
      "156 ms ± 1.75 ms per loop (mean ± std. dev. of 2 runs, 100 loops each)\n",
      "187 ms ± 1.52 ms per loop (mean ± std. dev. of 2 runs, 100 loops each)\n"
     ]
    }
   ],
   "source": [
    "def get_df_second(df):\n",
    "    df_second = df[df[\"Voltage\"]>235][[\"Date\", \"Time\", 'Voltage', 'Sub_metering_1', 'Sub_metering_2', 'Sub_metering_3']]\n",
    "    return df_second\n",
    "    \n",
    "    \n",
    "def get_ar_second(ar):\n",
    "    ar_second = ar[ar[..., 4]>235]\n",
    "    return ar_second\n",
    "\n",
    "\n",
    "%timeit -r 2 -n 100 get_df_second(df)\n",
    "%timeit -r 2 -n 100 get_ar_second(ar)\n",
    "\n",
    "df_second = get_df_second(df)\n",
    "ar_second = get_ar_second(ar)"
   ]
  },
  {
   "cell_type": "code",
   "execution_count": 219,
   "id": "d92ea15d-5563-45d8-a42f-6a1920befde9",
   "metadata": {
    "tags": []
   },
   "outputs": [
    {
     "data": {
      "text/html": [
       "<div>\n",
       "<style scoped>\n",
       "    .dataframe tbody tr th:only-of-type {\n",
       "        vertical-align: middle;\n",
       "    }\n",
       "\n",
       "    .dataframe tbody tr th {\n",
       "        vertical-align: top;\n",
       "    }\n",
       "\n",
       "    .dataframe thead th {\n",
       "        text-align: right;\n",
       "    }\n",
       "</style>\n",
       "<table border=\"1\" class=\"dataframe\">\n",
       "  <thead>\n",
       "    <tr style=\"text-align: right;\">\n",
       "      <th></th>\n",
       "      <th>Date</th>\n",
       "      <th>Time</th>\n",
       "      <th>Voltage</th>\n",
       "      <th>Sub_metering_1</th>\n",
       "      <th>Sub_metering_2</th>\n",
       "      <th>Sub_metering_3</th>\n",
       "    </tr>\n",
       "  </thead>\n",
       "  <tbody>\n",
       "    <tr>\n",
       "      <th>4</th>\n",
       "      <td>16/12/2006</td>\n",
       "      <td>17:28:00</td>\n",
       "      <td>235.68</td>\n",
       "      <td>0.0</td>\n",
       "      <td>1.0</td>\n",
       "      <td>17.0</td>\n",
       "    </tr>\n",
       "    <tr>\n",
       "      <th>5</th>\n",
       "      <td>16/12/2006</td>\n",
       "      <td>17:29:00</td>\n",
       "      <td>235.02</td>\n",
       "      <td>0.0</td>\n",
       "      <td>2.0</td>\n",
       "      <td>17.0</td>\n",
       "    </tr>\n",
       "    <tr>\n",
       "      <th>6</th>\n",
       "      <td>16/12/2006</td>\n",
       "      <td>17:30:00</td>\n",
       "      <td>235.09</td>\n",
       "      <td>0.0</td>\n",
       "      <td>1.0</td>\n",
       "      <td>17.0</td>\n",
       "    </tr>\n",
       "    <tr>\n",
       "      <th>7</th>\n",
       "      <td>16/12/2006</td>\n",
       "      <td>17:31:00</td>\n",
       "      <td>235.22</td>\n",
       "      <td>0.0</td>\n",
       "      <td>1.0</td>\n",
       "      <td>17.0</td>\n",
       "    </tr>\n",
       "    <tr>\n",
       "      <th>14</th>\n",
       "      <td>16/12/2006</td>\n",
       "      <td>17:38:00</td>\n",
       "      <td>235.24</td>\n",
       "      <td>0.0</td>\n",
       "      <td>1.0</td>\n",
       "      <td>17.0</td>\n",
       "    </tr>\n",
       "    <tr>\n",
       "      <th>...</th>\n",
       "      <td>...</td>\n",
       "      <td>...</td>\n",
       "      <td>...</td>\n",
       "      <td>...</td>\n",
       "      <td>...</td>\n",
       "      <td>...</td>\n",
       "    </tr>\n",
       "    <tr>\n",
       "      <th>2075254</th>\n",
       "      <td>26/11/2010</td>\n",
       "      <td>20:58:00</td>\n",
       "      <td>240.43</td>\n",
       "      <td>0.0</td>\n",
       "      <td>0.0</td>\n",
       "      <td>0.0</td>\n",
       "    </tr>\n",
       "    <tr>\n",
       "      <th>2075255</th>\n",
       "      <td>26/11/2010</td>\n",
       "      <td>20:59:00</td>\n",
       "      <td>240.00</td>\n",
       "      <td>0.0</td>\n",
       "      <td>0.0</td>\n",
       "      <td>0.0</td>\n",
       "    </tr>\n",
       "    <tr>\n",
       "      <th>2075256</th>\n",
       "      <td>26/11/2010</td>\n",
       "      <td>21:00:00</td>\n",
       "      <td>239.82</td>\n",
       "      <td>0.0</td>\n",
       "      <td>0.0</td>\n",
       "      <td>0.0</td>\n",
       "    </tr>\n",
       "    <tr>\n",
       "      <th>2075257</th>\n",
       "      <td>26/11/2010</td>\n",
       "      <td>21:01:00</td>\n",
       "      <td>239.70</td>\n",
       "      <td>0.0</td>\n",
       "      <td>0.0</td>\n",
       "      <td>0.0</td>\n",
       "    </tr>\n",
       "    <tr>\n",
       "      <th>2075258</th>\n",
       "      <td>26/11/2010</td>\n",
       "      <td>21:02:00</td>\n",
       "      <td>239.55</td>\n",
       "      <td>0.0</td>\n",
       "      <td>0.0</td>\n",
       "      <td>0.0</td>\n",
       "    </tr>\n",
       "  </tbody>\n",
       "</table>\n",
       "<p>1952491 rows × 6 columns</p>\n",
       "</div>"
      ],
      "text/plain": [
       "               Date      Time  Voltage  Sub_metering_1  Sub_metering_2  \\\n",
       "4        16/12/2006  17:28:00   235.68             0.0             1.0   \n",
       "5        16/12/2006  17:29:00   235.02             0.0             2.0   \n",
       "6        16/12/2006  17:30:00   235.09             0.0             1.0   \n",
       "7        16/12/2006  17:31:00   235.22             0.0             1.0   \n",
       "14       16/12/2006  17:38:00   235.24             0.0             1.0   \n",
       "...             ...       ...      ...             ...             ...   \n",
       "2075254  26/11/2010  20:58:00   240.43             0.0             0.0   \n",
       "2075255  26/11/2010  20:59:00   240.00             0.0             0.0   \n",
       "2075256  26/11/2010  21:00:00   239.82             0.0             0.0   \n",
       "2075257  26/11/2010  21:01:00   239.70             0.0             0.0   \n",
       "2075258  26/11/2010  21:02:00   239.55             0.0             0.0   \n",
       "\n",
       "         Sub_metering_3  \n",
       "4                  17.0  \n",
       "5                  17.0  \n",
       "6                  17.0  \n",
       "7                  17.0  \n",
       "14                 17.0  \n",
       "...                 ...  \n",
       "2075254             0.0  \n",
       "2075255             0.0  \n",
       "2075256             0.0  \n",
       "2075257             0.0  \n",
       "2075258             0.0  \n",
       "\n",
       "[1952491 rows x 6 columns]"
      ]
     },
     "execution_count": 219,
     "metadata": {},
     "output_type": "execute_result"
    }
   ],
   "source": [
    "df_second"
   ]
  },
  {
   "cell_type": "code",
   "execution_count": 220,
   "id": "fb68197f-7e67-4d11-882b-670d4f470a70",
   "metadata": {},
   "outputs": [
    {
     "data": {
      "text/html": [
       "<div>\n",
       "<style scoped>\n",
       "    .dataframe tbody tr th:only-of-type {\n",
       "        vertical-align: middle;\n",
       "    }\n",
       "\n",
       "    .dataframe tbody tr th {\n",
       "        vertical-align: top;\n",
       "    }\n",
       "\n",
       "    .dataframe thead th {\n",
       "        text-align: right;\n",
       "    }\n",
       "</style>\n",
       "<table border=\"1\" class=\"dataframe\">\n",
       "  <thead>\n",
       "    <tr style=\"text-align: right;\">\n",
       "      <th></th>\n",
       "      <th>0</th>\n",
       "      <th>1</th>\n",
       "      <th>4</th>\n",
       "      <th>6</th>\n",
       "      <th>7</th>\n",
       "      <th>8</th>\n",
       "    </tr>\n",
       "  </thead>\n",
       "  <tbody>\n",
       "    <tr>\n",
       "      <th>0</th>\n",
       "      <td>16/12/2006</td>\n",
       "      <td>17:38:00</td>\n",
       "      <td>235.24</td>\n",
       "      <td>0</td>\n",
       "      <td>1</td>\n",
       "      <td>17</td>\n",
       "    </tr>\n",
       "    <tr>\n",
       "      <th>1</th>\n",
       "      <td>16/12/2006</td>\n",
       "      <td>17:39:00</td>\n",
       "      <td>237.14</td>\n",
       "      <td>0</td>\n",
       "      <td>0</td>\n",
       "      <td>17</td>\n",
       "    </tr>\n",
       "    <tr>\n",
       "      <th>2</th>\n",
       "      <td>16/12/2006</td>\n",
       "      <td>17:40:00</td>\n",
       "      <td>236.73</td>\n",
       "      <td>0</td>\n",
       "      <td>0</td>\n",
       "      <td>17</td>\n",
       "    </tr>\n",
       "    <tr>\n",
       "      <th>3</th>\n",
       "      <td>16/12/2006</td>\n",
       "      <td>17:41:00</td>\n",
       "      <td>237.06</td>\n",
       "      <td>0</td>\n",
       "      <td>0</td>\n",
       "      <td>17</td>\n",
       "    </tr>\n",
       "    <tr>\n",
       "      <th>4</th>\n",
       "      <td>16/12/2006</td>\n",
       "      <td>17:42:00</td>\n",
       "      <td>237.13</td>\n",
       "      <td>0</td>\n",
       "      <td>0</td>\n",
       "      <td>18</td>\n",
       "    </tr>\n",
       "    <tr>\n",
       "      <th>...</th>\n",
       "      <td>...</td>\n",
       "      <td>...</td>\n",
       "      <td>...</td>\n",
       "      <td>...</td>\n",
       "      <td>...</td>\n",
       "      <td>...</td>\n",
       "    </tr>\n",
       "    <tr>\n",
       "      <th>1952482</th>\n",
       "      <td>26/11/2010</td>\n",
       "      <td>20:58:00</td>\n",
       "      <td>240.43</td>\n",
       "      <td>0</td>\n",
       "      <td>0</td>\n",
       "      <td>0</td>\n",
       "    </tr>\n",
       "    <tr>\n",
       "      <th>1952483</th>\n",
       "      <td>26/11/2010</td>\n",
       "      <td>20:59:00</td>\n",
       "      <td>240.00</td>\n",
       "      <td>0</td>\n",
       "      <td>0</td>\n",
       "      <td>0</td>\n",
       "    </tr>\n",
       "    <tr>\n",
       "      <th>1952484</th>\n",
       "      <td>26/11/2010</td>\n",
       "      <td>21:00:00</td>\n",
       "      <td>239.82</td>\n",
       "      <td>0</td>\n",
       "      <td>0</td>\n",
       "      <td>0</td>\n",
       "    </tr>\n",
       "    <tr>\n",
       "      <th>1952485</th>\n",
       "      <td>26/11/2010</td>\n",
       "      <td>21:01:00</td>\n",
       "      <td>239.70</td>\n",
       "      <td>0</td>\n",
       "      <td>0</td>\n",
       "      <td>0</td>\n",
       "    </tr>\n",
       "    <tr>\n",
       "      <th>1952486</th>\n",
       "      <td>26/11/2010</td>\n",
       "      <td>21:02:00</td>\n",
       "      <td>239.55</td>\n",
       "      <td>0</td>\n",
       "      <td>0</td>\n",
       "      <td>0</td>\n",
       "    </tr>\n",
       "  </tbody>\n",
       "</table>\n",
       "<p>1952487 rows × 6 columns</p>\n",
       "</div>"
      ],
      "text/plain": [
       "                  0         1       4  6  7   8\n",
       "0        16/12/2006  17:38:00  235.24  0  1  17\n",
       "1        16/12/2006  17:39:00  237.14  0  0  17\n",
       "2        16/12/2006  17:40:00  236.73  0  0  17\n",
       "3        16/12/2006  17:41:00  237.06  0  0  17\n",
       "4        16/12/2006  17:42:00  237.13  0  0  18\n",
       "...             ...       ...     ... .. ..  ..\n",
       "1952482  26/11/2010  20:58:00  240.43  0  0   0\n",
       "1952483  26/11/2010  20:59:00  240.00  0  0   0\n",
       "1952484  26/11/2010  21:00:00  239.82  0  0   0\n",
       "1952485  26/11/2010  21:01:00  239.70  0  0   0\n",
       "1952486  26/11/2010  21:02:00  239.55  0  0   0\n",
       "\n",
       "[1952487 rows x 6 columns]"
      ]
     },
     "execution_count": 220,
     "metadata": {},
     "output_type": "execute_result"
    }
   ],
   "source": [
    "pd.DataFrame.from_records(ar_second)[[0, 1, 4, 6, 7, 8]]"
   ]
  },
  {
   "cell_type": "markdown",
   "id": "4edc23af-41cf-4b9c-a4b4-d8fb9e4a544c",
   "metadata": {
    "tags": []
   },
   "source": [
    "## 3. Обрати всі домогосподарства, у яких сила струму лежить в межах 19-20 А, для них виявити ті, у яких пральна машина та холодильних споживають більше, ніж бойлер та кондиціонер."
   ]
  },
  {
   "cell_type": "code",
   "execution_count": null,
   "id": "e7cf4c78-ac2f-4f65-b9c5-64458b2583e9",
   "metadata": {
    "tags": []
   },
   "outputs": [
    {
     "name": "stdout",
     "output_type": "stream",
     "text": [
      "9.57 ms ± 122 µs per loop (mean ± std. dev. of 2 runs, 100 loops each)\n"
     ]
    }
   ],
   "source": [
    "def get_df_third(df):\n",
    "    df_third = df[(df[\"Global_intensity\"] >= 19) & (df[\"Global_intensity\"] <= 20) & (df[\"Sub_metering_2\"] > df[\"Sub_metering_3\"])][[\"Date\", \"Time\", 'Global_intensity', 'Sub_metering_1', 'Sub_metering_2', 'Sub_metering_3']]\n",
    "    return df_third\n",
    "    \n",
    "    \n",
    "def get_ar_third(ar):\n",
    "    ar_third = ar[(ar[:, 5]>=19) & (ar[:, 5]<=20) & (ar[:, 7]>ar[:, 8])]\n",
    "    return ar_third\n",
    "\n",
    "\n",
    "%timeit -r 2 -n 100 get_df_third(df)\n",
    "%timeit -r 2 -n 100 get_ar_third(ar)\n",
    "\n",
    "df_third = get_df_third(df)\n",
    "ar_third = get_ar_third(ar)"
   ]
  },
  {
   "cell_type": "code",
   "execution_count": null,
   "id": "eacb8c19-b21f-4ced-8f3f-d000bdb5752d",
   "metadata": {
    "tags": []
   },
   "outputs": [],
   "source": [
    "df_third"
   ]
  },
  {
   "cell_type": "code",
   "execution_count": null,
   "id": "f890331c-d7f4-43f0-9def-8dece0c074c7",
   "metadata": {},
   "outputs": [],
   "source": [
    "ar_third"
   ]
  },
  {
   "cell_type": "markdown",
   "id": "7402d8df-2dda-4d08-83fd-41035ad300d7",
   "metadata": {
    "jp-MarkdownHeadingCollapsed": true,
    "tags": []
   },
   "source": [
    "## 4. Обрати випадковим чином 500000 домогосподарств (без повторів елементів вибірки), для них обчислити середні величини усіх 3-х груп споживання електричної енергії, а також"
   ]
  },
  {
   "cell_type": "code",
   "execution_count": null,
   "id": "e490da6b-a8e5-4ab5-b0f7-c05171c85205",
   "metadata": {
    "tags": []
   },
   "outputs": [],
   "source": [
    "random_df = df.sample(500000)\n",
    "random_ar = random_df.values\n",
    "\n",
    "    \n",
    "    \n",
    "def get_df_fourth(df):\n",
    "    random_df['Average_of_3'] = (random_df['Sub_metering_1']+random_df['Sub_metering_2']+random_df['Sub_metering_3'])/3\n",
    "    df_fourth = random_df[[\"Date\", \"Time\", 'Average_of_3', 'Sub_metering_1', 'Sub_metering_2', 'Sub_metering_3']]\n",
    "    return df_fourth\n",
    "    \n",
    "    \n",
    "def get_ar_fourth(ar):\n",
    "    a = np.average(random_ar[..., [6, 7, 8]], axis=1)\n",
    "    ar_fourth = np.column_stack((random_ar[:, [0, 1, 6, 7, 8]], a.reshape(a.size, 1)))\n",
    "    return ar_fourth\n",
    "\n",
    "\n",
    "%timeit -r 2 -n 100 get_df_fourth(df)\n",
    "%timeit -r 2 -n 100 get_ar_fourth(ar)\n",
    "\n",
    "df_fourth = get_df_fourth(df)\n",
    "ar_fourth = get_ar_fourth(ar)"
   ]
  },
  {
   "cell_type": "code",
   "execution_count": null,
   "id": "45cc8808-f37b-456f-a1e2-617dae389dfb",
   "metadata": {
    "tags": []
   },
   "outputs": [],
   "source": [
    "df_fourth"
   ]
  },
  {
   "cell_type": "code",
   "execution_count": null,
   "id": "0a1adaa1-9afb-4821-8a28-7b21154a2e8a",
   "metadata": {},
   "outputs": [],
   "source": [
    "ar_fourth"
   ]
  },
  {
   "cell_type": "markdown",
   "id": "0ee380ca-2b81-47d2-93d3-81a1a06d9b23",
   "metadata": {
    "jp-MarkdownHeadingCollapsed": true,
    "tags": []
   },
   "source": [
    "## 5. Обрати ті домогосподарства, які після 18-00 споживають понад 6 кВт за хвилину в середньому, серед відібраних визначити ті, у яких основне споживання електроенергії у вказаний проміжок часу припадає на пральну машину, сушарку, холодильник та освітлення (група 2 є найбільшою), а потім обрати кожен третій результат із першої половини та кожен четвертий результат із другої половини."
   ]
  },
  {
   "cell_type": "code",
   "execution_count": null,
   "id": "99fa4554-c3c5-414b-befc-0481afc83c44",
   "metadata": {
    "tags": []
   },
   "outputs": [],
   "source": [
    "def get_fifth_df(df):\n",
    "    fifth_df = df[(df['Time']>= \"18:30:00\") & (df['Global_active_power']>6) & (df[\"Sub_metering_2\"]>df[\"Sub_metering_1\"]) & (df[\"Sub_metering_2\"]>df[\"Sub_metering_3\"])]\n",
    "    # fifth_df\n",
    "    order = []\n",
    "    for i in range(0, len(fifth_df)//2, 3):\n",
    "        order.append(fifth_df.iloc[i])\n",
    "    for i in range(len(fifth_df)//2, len(fifth_df), 4):\n",
    "        order.append(fifth_df.iloc[i])\n",
    "\n",
    "    df_fifth = pd.DataFrame.from_records(order)\n",
    "    # print(df_fifth)\n",
    "    return df_fifth\n",
    "    \n",
    "    \n",
    "def get_fifth_ar(ar):\n",
    "    ar_fifth = ar[(ar[..., 1]>=\"18:30:00\") & (ar[..., 2]>6) & (ar[..., 7]>ar[..., 8])& (ar[..., 7]>ar[..., 6])]\n",
    "    order = []\n",
    "    for i in range(0, len(ar_fifth)//2, 3):\n",
    "        order.append(ar_fifth[i])\n",
    "    for i in range(len(ar_fifth)//2, len(ar_fifth), 4):\n",
    "        order.append(ar_fifth[i])\n",
    "    # end_time = np.datetime64('now', 'ms')\n",
    "    fifth_ar = pd.DataFrame.from_records(order).values\n",
    "    return fifth_ar\n",
    "\n",
    "\n",
    "%timeit -r 2 -n 10 get_fifth_df(df)\n",
    "%timeit -r 2 -n 10 get_fifth_ar(ar)\n",
    "\n",
    "fifth_df = get_fifth_df(df)\n",
    "fifth_ar = get_fifth_ar(ar)"
   ]
  },
  {
   "cell_type": "code",
   "execution_count": null,
   "id": "53e1fcf2-f347-41e0-aae4-6f4e0786e4c5",
   "metadata": {
    "tags": []
   },
   "outputs": [],
   "source": [
    "fifth_df"
   ]
  },
  {
   "cell_type": "code",
   "execution_count": null,
   "id": "01a03942-23c0-4cd6-b483-e8be3d6aa72e",
   "metadata": {},
   "outputs": [],
   "source": [
    "fifth_ar"
   ]
  },
  {
   "cell_type": "markdown",
   "id": "c9d86a1a-5684-482d-a6f0-f2afaab9aedb",
   "metadata": {
    "tags": []
   },
   "source": [
    "***\n",
    "# *Завдання другого рівня*\n",
    "\n",
    "Виконати всі завдання, використовуючи як numpy array, так і dataframe\n",
    "\n",
    "Датасет має відповідати таким вимогам:\n",
    "- Data Set Characteristics: Multivariate\n",
    "- Attribute Characteristics: Categorical, Integer, Real\n",
    "- Number of Attributes: at least 2 integers/real\n",
    "- Missing Values? YES!!!!!"
   ]
  },
  {
   "cell_type": "code",
   "execution_count": null,
   "id": "fd47c562-e5ca-4371-9efc-90d838913b73",
   "metadata": {},
   "outputs": [],
   "source": [
    "df = pd.read_csv(\"pokemon.csv\")"
   ]
  },
  {
   "cell_type": "code",
   "execution_count": null,
   "id": "2fa7c433-ef42-4edd-938e-b8551932d856",
   "metadata": {
    "tags": []
   },
   "outputs": [],
   "source": [
    "df.isnull().sum()"
   ]
  },
  {
   "cell_type": "raw",
   "id": "11cc8aa6-a250-45e5-a56c-9009a8aec2e2",
   "metadata": {
    "jupyter": {
     "outputs_hidden": true
    },
    "tags": []
   },
   "source": [
    "df[df['height_m'].isnull()][['abilities', 'name', 'japanese_name', 'is_legendary']]"
   ]
  },
  {
   "cell_type": "markdown",
   "id": "df7be364-bb99-4ce0-ac15-9f4613ccfec0",
   "metadata": {
    "tags": []
   },
   "source": [
    "## 1. Поборотися із зниклими даними."
   ]
  },
  {
   "cell_type": "code",
   "execution_count": null,
   "id": "f295ce56-f686-439d-a153-0e2cb33b5efd",
   "metadata": {},
   "outputs": [],
   "source": [
    "df[['height_m', 'weight_kg']] = df[['height_m', 'weight_kg']].bfill()\n",
    "# df = df.fillna(method='ffill')"
   ]
  },
  {
   "cell_type": "code",
   "execution_count": null,
   "id": "a83ee22c-6502-43c1-b212-22b7675a3e75",
   "metadata": {
    "tags": []
   },
   "outputs": [],
   "source": [
    "df.isnull().sum()"
   ]
  },
  {
   "cell_type": "markdown",
   "id": "a15e56d4-6fda-45c6-8162-40bfb3f64a51",
   "metadata": {},
   "source": [
    "## 2. Пронормувати вибраний датасет або стандартизувати його."
   ]
  },
  {
   "cell_type": "code",
   "execution_count": null,
   "id": "21836d0f-9ed7-4bbd-906f-225ff5051a53",
   "metadata": {},
   "outputs": [],
   "source": [
    "df_num = df[['attack', 'defense', 'hp', \"speed\", \"sp_attack\", \"sp_defense\"]]\n",
    "\n",
    "normalized_df_num = (df_num-df_num.min())/(df_num.max()-df_num.min())\n",
    "#normalized_df_num.max()\n",
    "\n",
    "copy_df = df.copy()\n",
    "copy_df[['attack', 'defense', 'hp', \"speed\", \"sp_attack\", \"sp_defense\"]] = normalized_df_num\n",
    "\n",
    "normilized_df = copy_df\n",
    "# normilized_df\n",
    "#standatrized_df_num = (df_num - df_num.mean()) / df_num.std()\n",
    "#print(standatrized_df_num.mean().apply(lambda x: \"{:.6f}\".format(x)))\n",
    "#print(standatrized_df_num.std())\n",
    "#print(standatrized_df_num.var())\n",
    "#standatrized_df_num"
   ]
  },
  {
   "cell_type": "markdown",
   "id": "3642c1bd-8260-4be6-810a-af166571edc3",
   "metadata": {},
   "source": [
    "## 3. Збудувати гістограму по одному із атрибутів, що буде показувати на кількість елементів, що знаходяться у 10 діапазонах, які ви задасте."
   ]
  },
  {
   "cell_type": "code",
   "execution_count": null,
   "id": "2ed9d2ac-781e-478e-b990-3c58c9868fe7",
   "metadata": {},
   "outputs": [],
   "source": [
    "sns.set_style(\"white\")\n",
    "sns.histplot(normilized_df[[\"speed\"]], bins=10)"
   ]
  },
  {
   "cell_type": "markdown",
   "id": "31d80bd1-971d-4e49-bc45-05fb84f92f5f",
   "metadata": {},
   "source": [
    "## 4. Збудувати графік залежності одного integer/real атрибута від іншого."
   ]
  },
  {
   "cell_type": "code",
   "execution_count": null,
   "id": "351f154d-43ee-45eb-b813-ea8de7a6818b",
   "metadata": {},
   "outputs": [],
   "source": [
    "sns.set_style(\"whitegrid\")\n",
    "sns.lineplot(normilized_df[[\"against_flying\", 'against_water']], y='against_flying', x='against_water') #, hue='is_legendary')"
   ]
  },
  {
   "cell_type": "markdown",
   "id": "8dc95b8e-1a5c-44e9-b18b-04041195baf3",
   "metadata": {},
   "source": [
    "## 5. Підрахувати коефіцієнт Пірсона та Спірсона для двох integer/real атрибутів."
   ]
  },
  {
   "cell_type": "code",
   "execution_count": null,
   "id": "0ed54f18-b107-49f2-878c-d7c5de0a3993",
   "metadata": {},
   "outputs": [],
   "source": [
    "pear = scipy.stats.pearsonr(normilized_df[\"attack\"], normilized_df['sp_attack'])\n",
    "spear = scipy.stats.spearmanr(normilized_df[\"attack\"], normilized_df['sp_attack'])\n",
    "\n",
    "print(f\"Для Атаки та СпецАтаки: \\nкоефіцієнт Пірсона: {pear}, \\nкоефіцієнт Спірсона: {spear}.\")"
   ]
  },
  {
   "cell_type": "markdown",
   "id": "08740586-d5e6-45b4-a11c-79274ce2db7c",
   "metadata": {},
   "source": [
    "## 6. Провести One Hot Encoding категоріального string атрибуту."
   ]
  },
  {
   "cell_type": "code",
   "execution_count": null,
   "id": "ad5e7e97-6054-4783-9c2b-1438e947e7d1",
   "metadata": {},
   "outputs": [],
   "source": [
    "ohe = OneHotEncoder(handle_unknown='ignore')"
   ]
  },
  {
   "cell_type": "code",
   "execution_count": null,
   "id": "020f09b8-d60b-4e84-93be-e035a116ab9b",
   "metadata": {},
   "outputs": [],
   "source": [
    "a = ohe.fit(normilized_df['type1'].values.reshape(-1, 1))"
   ]
  },
  {
   "cell_type": "code",
   "execution_count": null,
   "id": "93a62572-22b9-445f-acb4-9da1269eb39c",
   "metadata": {},
   "outputs": [],
   "source": [
    "ohe.categories_"
   ]
  },
  {
   "cell_type": "markdown",
   "id": "d6cb78c2-76bc-4dac-a062-c51aba85d3e5",
   "metadata": {
    "tags": []
   },
   "source": [
    "## 7. Провести візуалізацію багатовимірних даних, використовуючи приклади."
   ]
  },
  {
   "cell_type": "code",
   "execution_count": null,
   "id": "85dab6d4-d782-4721-a04a-12462f0361b2",
   "metadata": {},
   "outputs": [],
   "source": [
    "sns.pairplot(normilized_df[['attack', 'defense', 'hp', \"speed\", \"sp_attack\", \"sp_defense\", 'is_legendary']], hue=\"is_legendary\", kind=\"reg\")"
   ]
  },
  {
   "cell_type": "markdown",
   "id": "17a27c6c-e9ad-4c84-b467-2e6f98f762a9",
   "metadata": {
    "tags": []
   },
   "source": [
    "***\n",
    "# *Додаткове завдання*:  "
   ]
  },
  {
   "cell_type": "markdown",
   "id": "d42b3b3b-2ff3-4cda-b91b-75f5450a45c4",
   "metadata": {
    "tags": []
   },
   "source": [
    "## 8. Поділити випадковим чином датасет на дві рівні частини. Навчити 3 регресійні моделі на основі не менше одного атрибуту відновлювати інший. Навчання має відбуватися на основі [першого датасету](https://scikit-learn.org/stable/modules/linear_model.html), візуалізувати моделі та на основі [середньої квадратичної помилки](https://scikit-learn.org/stable/modules/generated/sklearn.metrics.mean_squared_error.html) вибрати найкращу."
   ]
  },
  {
   "cell_type": "code",
   "execution_count": null,
   "id": "ebb6de13-1cf9-47c2-8480-54571d470c95",
   "metadata": {},
   "outputs": [],
   "source": [
    "train_set, test_set = train_test_split(normilized_df, test_size=0.5, random_state=42)"
   ]
  },
  {
   "cell_type": "code",
   "execution_count": null,
   "id": "8c82ac20-ccf6-4181-9e31-5a7f164c6d12",
   "metadata": {
    "tags": []
   },
   "outputs": [],
   "source": [
    "test_set = test_set[:400]"
   ]
  },
  {
   "cell_type": "code",
   "execution_count": null,
   "id": "7aa16e4f-46f9-4836-8aa6-1a42c648c5d4",
   "metadata": {},
   "outputs": [],
   "source": [
    "train_set_a = np.atleast_2d(train_set['against_flying'])#.values.reshape(-1, 1)\n",
    "train_set_sa = np.atleast_2d(train_set['against_water'])#.values.reshape(-1, 1)\n",
    "\n",
    "dfplot_a = normilized_df['against_flying']#.values.reshape(-1, 1)\n",
    "dfplot_sa = normilized_df['against_water']#.values.reshape(-1, 1)\n",
    "\n",
    "test_set_a = np.atleast_2d(test_set['against_flying'])#.values.reshape(-1, 1)\n",
    "test_set_sa = np.atleast_2d(test_set['against_water'])#.values.reshape(-1, 1)"
   ]
  },
  {
   "cell_type": "code",
   "execution_count": null,
   "id": "b92a5b4c-41d8-448a-bc74-6a1a2a8429dd",
   "metadata": {},
   "outputs": [],
   "source": [
    "linear_reg = LinearRegression()\n",
    "linear_reg.fit(train_set_a, train_set_sa)"
   ]
  },
  {
   "cell_type": "code",
   "execution_count": null,
   "id": "58cebb38-2b84-4bef-b014-1ddfbf1924bd",
   "metadata": {},
   "outputs": [],
   "source": [
    "# Навчання регресії опорних векторів\n",
    "svr_reg = SVR(kernel='linear')\n",
    "svr_reg.fit(train_set['against_flying'].values.reshape(-1, 1), train_set['against_water'].values)"
   ]
  },
  {
   "cell_type": "code",
   "execution_count": null,
   "id": "92b0cfd7-6ac0-4527-8aac-0ad865015a14",
   "metadata": {},
   "outputs": [],
   "source": [
    "# Навчання регресії дерева рішень\n",
    "tree_reg = DecisionTreeRegressor()\n",
    "tree_reg.fit(train_set_a, train_set_sa)"
   ]
  },
  {
   "cell_type": "code",
   "execution_count": null,
   "id": "5f97e3bc-fff4-4ab8-8d37-50efaf8597a5",
   "metadata": {},
   "outputs": [],
   "source": [
    "# Візуалізація результатів\n",
    "plt.figure(figsize=(12, 8))\n",
    "\n",
    "# Лінійна регресія\n",
    "plt.subplot(1, 3, 1)\n",
    "plt.scatter(dfplot_a, dfplot_sa, color='blue')\n",
    "plt.scatter(test_set_sa, linear_reg.predict(test_set_a), color='red')\n",
    "plt.title('Лінійна регресія')\n",
    "\n",
    "# Регресія опорних векторів\n",
    "plt.subplot(1, 3, 2)\n",
    "plt.scatter(dfplot_a, dfplot_sa, color='blue')\n",
    "plt.scatter(test_set_sa.reshape(-1, 1), svr_reg.predict(test_set_a.reshape(-1, 1)), color='red')\n",
    "plt.title('Регресія опорних векторів')\n",
    "\n",
    "# Регресія дерева рішень\n",
    "plt.subplot(1, 3, 3)\n",
    "plt.scatter(dfplot_a, dfplot_sa, color='blue')\n",
    "plt.scatter(test_set_sa, tree_reg.predict(test_set_a), color='red')\n",
    "plt.title('Регресія дерева рішень')\n",
    "\n",
    "plt.show()"
   ]
  },
  {
   "cell_type": "code",
   "execution_count": null,
   "id": "88837599-3442-4835-9a1c-fa077cec29e6",
   "metadata": {
    "tags": []
   },
   "outputs": [],
   "source": [
    "# Оцінка моделей за середньою квадратичною помилкою\n",
    "mse_linear = mean_squared_error(test_set_sa, linear_reg.predict(test_set_a))\n",
    "mse_svr = mean_squared_error(test_set_sa.reshape(-1, 1), svr_reg.predict(test_set_a.reshape(-1, 1)))\n",
    "mse_tree = mean_squared_error(test_set_sa, tree_reg.predict(test_set_a))\n",
    "\n",
    "print(f'MSE Лінійна регресія: {mse_linear}')\n",
    "print(f'MSE Регресія опорних векторів: {mse_svr}')\n",
    "print(f'MSE Регресія дерева рішень: {mse_tree}')"
   ]
  }
 ],
 "metadata": {
  "kernelspec": {
   "display_name": "Python 3 (ipykernel)",
   "language": "python",
   "name": "python3"
  },
  "language_info": {
   "codemirror_mode": {
    "name": "ipython",
    "version": 3
   },
   "file_extension": ".py",
   "mimetype": "text/x-python",
   "name": "python",
   "nbconvert_exporter": "python",
   "pygments_lexer": "ipython3",
   "version": "3.11.5"
  }
 },
 "nbformat": 4,
 "nbformat_minor": 5
}
