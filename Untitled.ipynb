{
 "cells": [
  {
   "cell_type": "code",
   "execution_count": 14,
   "id": "350022ef",
   "metadata": {
    "scrolled": true
   },
   "outputs": [
    {
     "name": "stdout",
     "output_type": "stream",
     "text": [
      "VHI is started...\n",
      "VHI is downloaded...\n",
      "               year  week    SMN     SMT    VCI    TCI   VHI<br>\n",
      "0     <tt><pre>1982   1.0  0.053  260.31  45.01  39.46     42.23\n",
      "1              1982   2.0  0.054  262.29  46.83  31.75     39.29\n",
      "2              1982   3.0  0.055  263.82  48.13  27.24     37.68\n",
      "3              1982   4.0  0.053  265.33  46.09  23.91     35.00\n",
      "4              1982   5.0  0.050  265.66  41.46  26.65     34.06\n",
      "...             ...   ...    ...     ...    ...    ...       ...\n",
      "2180           2023  49.0 -1.000   -1.00  -1.00  -1.00     -1.00\n",
      "2181           2023  50.0 -1.000   -1.00  -1.00  -1.00     -1.00\n",
      "2182           2023  51.0 -1.000   -1.00  -1.00  -1.00     -1.00\n",
      "2183           2023  52.0 -1.000   -1.00  -1.00  -1.00     -1.00\n",
      "2184    </pre></tt>   NaN    NaN     NaN    NaN    NaN       NaN\n",
      "\n",
      "[2185 rows x 7 columns]\n"
     ]
    }
   ],
   "source": [
    "import urllib3\n",
    "import pandas as pd\n",
    "print(\"VHI is started...\")\n",
    "url= \"https://www.star.nesdis.noaa.gov/smcd/emb/vci/VH/get_TS_admin.php?provinceID=1&country=UKR&yearlyTag=Weekly&type=Mean&TagCropland=land&year1=1982&year2=2023\"\n",
    "\n",
    "df = pd.read_csv(url, index_col=False, header=1)\n",
    "\n",
    "# http = urllib3.PoolManager()\n",
    "# vhi_url = http.urlopen(\"GET\", url=url)\n",
    "# out = open('vhi_id_16.csv','wb')\n",
    "# out.write(vhi_url.read())\n",
    "# out.close()\n",
    "\n",
    "print(\"VHI is downloaded...\")\n",
    "print(df)"
   ]
  },
  {
   "cell_type": "code",
   "execution_count": 13,
   "id": "36bebef4",
   "metadata": {},
   "outputs": [
    {
     "name": "stdout",
     "output_type": "stream",
     "text": [
      "['year', 'week', ' SMN', 'SMT', 'VCI', 'TCI', ' VHI<br>']\n",
      "            year  week    SMN     SMT    VCI    TCI   VHI<br>\n",
      "0  <tt><pre>1982   1.0  0.053  260.31  45.01  39.46     42.23\n"
     ]
    }
   ],
   "source": [
    "print(list(df.columns.values))\n",
    "print(df[:1])"
   ]
  },
  {
   "cell_type": "code",
   "execution_count": 8,
   "id": "752e0854",
   "metadata": {},
   "outputs": [
    {
     "data": {
      "text/html": [
       "<div>\n",
       "<style scoped>\n",
       "    .dataframe tbody tr th:only-of-type {\n",
       "        vertical-align: middle;\n",
       "    }\n",
       "\n",
       "    .dataframe tbody tr th {\n",
       "        vertical-align: top;\n",
       "    }\n",
       "\n",
       "    .dataframe thead th {\n",
       "        text-align: right;\n",
       "    }\n",
       "</style>\n",
       "<table border=\"1\" class=\"dataframe\">\n",
       "  <thead>\n",
       "    <tr style=\"text-align: right;\">\n",
       "      <th></th>\n",
       "      <th>year</th>\n",
       "      <th>week</th>\n",
       "      <th>SMN</th>\n",
       "      <th>SMT</th>\n",
       "      <th>VCI</th>\n",
       "      <th>TCI</th>\n",
       "      <th>VHI&lt;br&gt;</th>\n",
       "    </tr>\n",
       "  </thead>\n",
       "  <tbody>\n",
       "  </tbody>\n",
       "</table>\n",
       "</div>"
      ],
      "text/plain": [
       "Empty DataFrame\n",
       "Columns: [year, week,  SMN, SMT, VCI, TCI,  VHI<br>]\n",
       "Index: []"
      ]
     },
     "execution_count": 8,
     "metadata": {},
     "output_type": "execute_result"
    }
   ],
   "source": [
    "df[(df['year']==2000) & (df['week']==18)]"
   ]
  }
 ],
 "metadata": {
  "kernelspec": {
   "display_name": "Python 3 (ipykernel)",
   "language": "python",
   "name": "python3"
  },
  "language_info": {
   "codemirror_mode": {
    "name": "ipython",
    "version": 3
   },
   "file_extension": ".py",
   "mimetype": "text/x-python",
   "name": "python",
   "nbconvert_exporter": "python",
   "pygments_lexer": "ipython3",
   "version": "3.9.13"
  }
 },
 "nbformat": 4,
 "nbformat_minor": 5
}
